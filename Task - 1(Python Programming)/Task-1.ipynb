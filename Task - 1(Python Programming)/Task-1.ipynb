{
 "cells": [
  {
   "cell_type": "code",
   "execution_count": 1,
   "metadata": {},
   "outputs": [
    {
     "name": "stdout",
     "output_type": "stream",
     "text": [
      "Hello, World!\n"
     ]
    }
   ],
   "source": [
    "# 1.Say \"Hello, World!\" With Python\n",
    "print (\"Hello, World!\")"
   ]
  },
  {
   "cell_type": "code",
   "execution_count": 2,
   "metadata": {},
   "outputs": [
    {
     "name": "stdout",
     "output_type": "stream",
     "text": [
      "Enter a value:24\n",
      "Not Weird\n"
     ]
    }
   ],
   "source": [
    "#2. Python If-Else\n",
    "n =int(input('Enter a value:'))\n",
    "\n",
    "if n % 2 != 0:\n",
    "    print (\"Weird\")\n",
    "else:\n",
    "    if n >= 2 and n <= 5:\n",
    "        print (\"Not Weird\")\n",
    "    elif n >= 6 and n <= 20:\n",
    "        print (\"Weird\")\n",
    "    elif n > 20:\n",
    "        print( \"Not Weird\")"
   ]
  },
  {
   "cell_type": "code",
   "execution_count": 3,
   "metadata": {},
   "outputs": [
    {
     "name": "stdout",
     "output_type": "stream",
     "text": [
      "3\n",
      "2\n",
      "5\n",
      "1\n",
      "6\n"
     ]
    }
   ],
   "source": [
    "#3.Arithmetic Operators\n",
    "a = int(input())\n",
    "b = int(input())\n",
    "c=a+b\n",
    "d=a-b\n",
    "e=a*b\n",
    "print(c)\n",
    "print(d)\n",
    "print(e)"
   ]
  },
  {
   "cell_type": "code",
   "execution_count": 4,
   "metadata": {},
   "outputs": [
    {
     "name": "stdout",
     "output_type": "stream",
     "text": [
      "2\n",
      "3\n",
      "0\n",
      "0.6666666666666666\n"
     ]
    }
   ],
   "source": [
    "#4.Division\n",
    "a = int(input())\n",
    "b = int(input())\n",
    "c=a//b\n",
    "d=a/b\n",
    "print(c)\n",
    "print(d)"
   ]
  },
  {
   "cell_type": "code",
   "execution_count": 5,
   "metadata": {},
   "outputs": [
    {
     "name": "stdout",
     "output_type": "stream",
     "text": [
      "2100\n",
      "False\n"
     ]
    }
   ],
   "source": [
    "#5.Write a function\n",
    "def is_leap(year):\n",
    "    leap=False\n",
    "    if year % 400 == 0:\n",
    "        return True\n",
    "    if year %100 == 0:\n",
    "        return leap\n",
    "    if year % 4 ==0:\n",
    "        return True\n",
    "    else:\n",
    "        return False\n",
    "        return leap\n",
    "\n",
    "\n",
    "\n",
    "\n",
    "year = int(input())\n",
    "\n",
    "print(is_leap(year))"
   ]
  },
  {
   "cell_type": "code",
   "execution_count": 6,
   "metadata": {},
   "outputs": [
    {
     "name": "stdout",
     "output_type": "stream",
     "text": [
      "6\n",
      "0\n",
      "1\n",
      "4\n",
      "9\n",
      "16\n",
      "25\n"
     ]
    }
   ],
   "source": [
    "#6.Loop\n",
    "n = int(input())\n",
    "   \n",
    "for i in range(n):\n",
    "        print(i*i);"
   ]
  },
  {
   "cell_type": "code",
   "execution_count": 7,
   "metadata": {},
   "outputs": [
    {
     "name": "stdout",
     "output_type": "stream",
     "text": [
      "6\n",
      "123456"
     ]
    }
   ],
   "source": [
    "#7.Print Function\n",
    "\n",
    "n = int(input())\n",
    "for i in range(1,n+1):\n",
    "    print(i, end = \"\")"
   ]
  },
  {
   "cell_type": "code",
   "execution_count": null,
   "metadata": {},
   "outputs": [],
   "source": []
  }
 ],
 "metadata": {
  "kernelspec": {
   "display_name": "Python 3",
   "language": "python",
   "name": "python3"
  },
  "language_info": {
   "codemirror_mode": {
    "name": "ipython",
    "version": 3
   },
   "file_extension": ".py",
   "mimetype": "text/x-python",
   "name": "python",
   "nbconvert_exporter": "python",
   "pygments_lexer": "ipython3",
   "version": "3.8.3"
  }
 },
 "nbformat": 4,
 "nbformat_minor": 4
}
