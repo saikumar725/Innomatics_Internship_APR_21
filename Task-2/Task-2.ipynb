{
 "cells": [
  {
   "cell_type": "code",
   "execution_count": 1,
   "metadata": {},
   "outputs": [
    {
     "name": "stdout",
     "output_type": "stream",
     "text": [
      "2\n",
      "2\n",
      "2\n",
      "2\n",
      "[[0, 0, 0], [0, 0, 1], [0, 1, 0], [0, 1, 2], [0, 2, 1], [0, 2, 2], [1, 0, 0], [1, 0, 2], [1, 1, 1], [1, 1, 2], [1, 2, 0], [1, 2, 1], [1, 2, 2], [2, 0, 1], [2, 0, 2], [2, 1, 0], [2, 1, 1], [2, 1, 2], [2, 2, 0], [2, 2, 1], [2, 2, 2]]\n"
     ]
    }
   ],
   "source": [
    "#1.List comprehensions\n",
    "\n",
    "x = int(input())\n",
    "y = int(input())\n",
    "z = int(input())\n",
    "n = int(input())\n",
    "l=[]   \n",
    "\n",
    "l=[ [i,j,k] for i in range(0,x+1) for j in range(0,y+1) for k in range(0,z+1) if i+j+k!=n ]\n",
    "print(l)"
   ]
  },
  {
   "cell_type": "code",
   "execution_count": 2,
   "metadata": {},
   "outputs": [
    {
     "name": "stdout",
     "output_type": "stream",
     "text": [
      "6\n",
      "1 2 3 5 5 6 6 \n",
      "5\n"
     ]
    }
   ],
   "source": [
    "#2.Find the Runner-Up Score!\n",
    "\n",
    "\n",
    "n = int(input())\n",
    "arr = list(map(int, input().split()))\n",
    "\n",
    "arr.sort()\n",
    "print(arr[(arr.index(max(arr)))-1])"
   ]
  },
  {
   "cell_type": "code",
   "execution_count": 3,
   "metadata": {},
   "outputs": [
    {
     "name": "stdout",
     "output_type": "stream",
     "text": [
      "5\n",
      "harry\n",
      "37.21\n",
      "berry\n",
      "37.21\n",
      "tina\n",
      "37.2\n",
      "akriti\n",
      "41\n",
      "harsh\n",
      "39\n",
      "second lowest grade is : berry\n",
      "second lowest grade is : harry\n"
     ]
    }
   ],
   "source": [
    "#3.Nested Lists\n",
    "marks=[]\n",
    "scores=[]\n",
    "for i in range(int(input())):\n",
    "    name=input()\n",
    "    score=float(input())\n",
    "    marks+=[[name,score]]\n",
    "    scores+=[score]\n",
    "x=sorted(set(scores))[1]\n",
    "\n",
    "for a,b in sorted(marks):\n",
    "    if b==x:\n",
    "        print(\"second lowest grade is :\",a)\n",
    "    "
   ]
  },
  {
   "cell_type": "code",
   "execution_count": 4,
   "metadata": {},
   "outputs": [
    {
     "name": "stdout",
     "output_type": "stream",
     "text": [
      "3\n",
      "krishna 67 68 69\n",
      "arjun 70 98 63\n",
      "malika 52 56 60\n",
      "malika\n",
      "56.00\n"
     ]
    }
   ],
   "source": [
    "#4.Finding the percentage\n",
    "n = int(input())\n",
    "student_marks = {}\n",
    "for _ in range(n):\n",
    "    name, *line = input().split()\n",
    "    scores = list(map(float, line))\n",
    "    student_marks[name] = scores\n",
    "query_name = input()\n",
    "    \n",
    "s=0\n",
    "\n",
    "for i in student_marks[query_name]:\n",
    "    s=s+i\n",
    "print(\"{0:.2f}\".format(s/3))\n"
   ]
  },
  {
   "cell_type": "code",
   "execution_count": 2,
   "metadata": {},
   "outputs": [
    {
     "name": "stdout",
     "output_type": "stream",
     "text": [
      "12\n",
      "insert 0 5\n",
      "insert 1 10\n",
      "insert 0 6\n",
      "print\n",
      "[6, 5, 10]\n",
      "remove 6\n",
      "append 9\n",
      "append 1\n",
      "sort\n",
      "print\n",
      "[1, 5, 9, 10]\n",
      "pop\n",
      "reverse\n",
      "print\n",
      "[9, 5, 1]\n"
     ]
    }
   ],
   "source": [
    "#5.List\n",
    "N = int(input())\n",
    "arr=[]\n",
    "for i in range(N):\n",
    "    s=input().split()\n",
    "    for i in range(1,len(s)):\n",
    "        s[i]=int(s[i])\n",
    "    if s[0]==\"append\":\n",
    "        arr.append(s[1])\n",
    "    elif s[0]==\"insert\":\n",
    "        arr.insert(s[1],s[2])\n",
    "    elif s[0]==\"remove\":\n",
    "        arr.remove(s[1])\n",
    "    elif s[0]==\"pop\":\n",
    "        arr.pop()\n",
    "    elif s[0]==\"sort\":\n",
    "        arr.sort()\n",
    "    elif s[0]==\"reverse\":\n",
    "        arr.reverse()\n",
    "    elif s[0]==\"print\":\n",
    "        print(arr)"
   ]
  },
  {
   "cell_type": "code",
   "execution_count": 1,
   "metadata": {},
   "outputs": [
    {
     "name": "stdout",
     "output_type": "stream",
     "text": [
      "2\n",
      "1 2\n",
      "-3550055125485641917\n"
     ]
    }
   ],
   "source": [
    "#6.Tuples\n",
    "\n",
    "n=int(input())\n",
    "integer_list=tuple(map(int,input().split()))\n",
    "print(hash(integer_list))"
   ]
  },
  {
   "cell_type": "code",
   "execution_count": 2,
   "metadata": {},
   "outputs": [
    {
     "name": "stdout",
     "output_type": "stream",
     "text": [
      "10\n",
      "161 182 161 154 176 170 167 171 170 174\n",
      "169.375\n"
     ]
    }
   ],
   "source": [
    "#7.Introduction to Sets\n",
    "\n",
    "\n",
    "def average(array):\n",
    "    array=set(array)\n",
    "    return sum(array)/len(array)\n",
    "\n",
    "    \n",
    "\n",
    "if __name__ == '__main__':\n",
    "    n = int(input())\n",
    "    arr = list(map(int, input().split()))\n",
    "    result = average(arr)\n",
    "    print(result)"
   ]
  },
  {
   "cell_type": "code",
   "execution_count": 3,
   "metadata": {
    "scrolled": true
   },
   "outputs": [
    {
     "name": "stdout",
     "output_type": "stream",
     "text": [
      "3 2\n",
      "1 5 3\n",
      "3 1\n",
      "5 7\n",
      "1\n"
     ]
    }
   ],
   "source": [
    "#8.No Idea!\n",
    "n,m=map(int,input().split())\n",
    "arr=list(map(int,input().split()))\n",
    "A=set(map(int,input().split()))\n",
    "B=set(map(int,input().split()))\n",
    "print(sum((i in A)-(i in B )for i in arr))\n"
   ]
  },
  {
   "cell_type": "code",
   "execution_count": 4,
   "metadata": {},
   "outputs": [
    {
     "name": "stdout",
     "output_type": "stream",
     "text": [
      "4\n",
      "2 5 9 6\n",
      "5\n",
      "1 2 3 5 6\n",
      "Symmetric Difference: 1\n",
      "Symmetric Difference: 3\n",
      "Symmetric Difference: 9\n"
     ]
    }
   ],
   "source": [
    "#9.Symmetric Difference\n",
    "\n",
    "n=int(input())\n",
    "s1=set(map(int,input().split()))\n",
    "m=int(input())\n",
    "s2=set(map(int,input().split()))\n",
    "s3=s1.union(s2)\n",
    "l=[]\n",
    "for i in s3:\n",
    "    if i in s1 and i in s2:\n",
    "        pass\n",
    "    else:\n",
    "        l.append(i)\n",
    "l.sort()\n",
    "for i in l:\n",
    "    print('Symmetric Difference :',i)\n"
   ]
  },
  {
   "cell_type": "code",
   "execution_count": 5,
   "metadata": {},
   "outputs": [
    {
     "name": "stdout",
     "output_type": "stream",
     "text": [
      "7\n",
      "uk\n",
      "china\n",
      "usa\n",
      "china\n",
      "france\n",
      "newzeeland\n",
      "uk\n",
      "5\n"
     ]
    }
   ],
   "source": [
    "#10.Set .add()\n",
    "n=int(input())\n",
    "sets=set()\n",
    "for i in range(n):\n",
    "    sets.add(input())\n",
    "print(len(sets))"
   ]
  },
  {
   "cell_type": "code",
   "execution_count": 6,
   "metadata": {},
   "outputs": [
    {
     "name": "stdout",
     "output_type": "stream",
     "text": [
      "9\n",
      "1 2 3 4 5 6 7 8 9\n",
      "10\n",
      "pop\n",
      "remove9\n",
      "discard 9\n",
      "discard 8\n",
      "remove 7\n",
      "pop\n",
      "discard 6\n",
      "remove 5\n",
      "pop\n",
      "discard 5\n",
      "4\n"
     ]
    }
   ],
   "source": [
    "#11.Set .discard(),remove()&pop()\n",
    "n=int(input())\n",
    "s = set(map(int, input().split()))\n",
    "n=int(input())\n",
    "for i in range(n):\n",
    "    commands=input().split()\n",
    "    if len(commands)>1:\n",
    "        e=int(commands[1])\n",
    "    if commands[0]==\"pop\":\n",
    "        s.pop()\n",
    "    if commands[0]==\"remove\":\n",
    "        s.remove(e)\n",
    "    if commands[0]==\"discard\":\n",
    "        s.discard(e)\n",
    "print(sum(s))\n"
   ]
  },
  {
   "cell_type": "code",
   "execution_count": 7,
   "metadata": {},
   "outputs": [
    {
     "name": "stdout",
     "output_type": "stream",
     "text": [
      "9\n",
      "1 2 3 4 5 6 7 8 9\n",
      "9\n",
      "10 1 2 3 11 21 55 6 8\n",
      "13\n"
     ]
    }
   ],
   "source": [
    "#12.Set .union() Operation\n",
    "l=[]\n",
    "e= int(input())\n",
    "eng=list(map(int,input().rstrip().split()))\n",
    "f=int(input())\n",
    "french=list(map(int,input().rstrip().split()))\n",
    "for i in eng:\n",
    "    l.append(i)\n",
    "for i in french:\n",
    "    l.append(i)\n",
    "s=set(l)\n",
    "print(len(s))\n"
   ]
  },
  {
   "cell_type": "code",
   "execution_count": 8,
   "metadata": {},
   "outputs": [
    {
     "name": "stdout",
     "output_type": "stream",
     "text": [
      "9\n",
      "1 2 3 4 5 6 7 8 9\n",
      "9\n",
      "10 1 2 3 11 21 55 6 8\n",
      "5\n"
     ]
    }
   ],
   "source": [
    "#13.Set.intersection() Operation\n",
    "l=[]\n",
    "e=int(input())\n",
    "eng=set(map(int,input().split()))\n",
    "\n",
    "f=int(input())\n",
    "french=set(map(int,input().split()))\n",
    "\n",
    "inter=eng.intersection(french)\n",
    "print(len(inter))"
   ]
  },
  {
   "cell_type": "code",
   "execution_count": 7,
   "metadata": {},
   "outputs": [
    {
     "name": "stdout",
     "output_type": "stream",
     "text": [
      "9\n",
      "1 2 3 4 5 6 7 8 9\n",
      "9\n",
      "10 1 2 3 11 21 55 6 8\n",
      "Number of subscribed to the English r: 4\n"
     ]
    }
   ],
   "source": [
    "#14.set.difference\n",
    "c=0\n",
    "e=int(input())\n",
    "eng=set(map(int,input().split()))\n",
    "f=int(input())\n",
    "french=set(map(int,input().split()))\n",
    "l=eng-french\n",
    "print(\"Number of subscribed to the English r:\" ,len(l))"
   ]
  },
  {
   "cell_type": "code",
   "execution_count": 9,
   "metadata": {},
   "outputs": [
    {
     "name": "stdout",
     "output_type": "stream",
     "text": [
      "9\n",
      "1 2 3 4 5 6 7 8 9\n",
      "9\n",
      "10 1 2 3 11 21 55 6 8\n",
      "The roll numbers of students who have subscriptions to English or French newspapers but not both are: 8\n"
     ]
    }
   ],
   "source": [
    "#15.Set.symmetric_difference() Operation\n",
    "\n",
    "e = int(input())\n",
    "eng = set(map(int,input().split())) \n",
    "f = int(input())\n",
    "fre = set(map(int,input().split()))\n",
    "print(\"The roll numbers of students who have subscriptions to English or French newspapers but not both are:\",len(eng ^ fre))\n",
    "\n"
   ]
  },
  {
   "cell_type": "code",
   "execution_count": 4,
   "metadata": {},
   "outputs": [
    {
     "name": "stdout",
     "output_type": "stream",
     "text": [
      "16\n",
      "1 2 3 4 5 6 7 8 9 10 11 12 13 14 24 52\n",
      "4\n",
      "intersection_update 10\n",
      " 2 3 5 6 8 9 1 4 7 11\n",
      " update 2\n",
      "55 66\n",
      "symmetric_difference_update 5\n",
      "22 7 35 62 58\n",
      "difference_update 7\n",
      "11 22 35 55 58 62 66\n",
      "output: 38\n"
     ]
    }
   ],
   "source": [
    "#16.set.mutation\n",
    "\n",
    "def Operations():\n",
    "    global output\n",
    "    \n",
    "    ol=input().split()\n",
    "    operation=ol[0]\n",
    "    updaterSet=set(map(int,input().split()))\n",
    "    if operation==\"intersection_update\":\n",
    "        a.intersection_update(updaterSet)\n",
    "    elif operation==\"update\":\n",
    "        a.update(updaterSet)\n",
    "    elif operation==\"symmetric_difference_update\":\n",
    "        a.symmetric_difference_update(updaterSet)\n",
    "   \n",
    "    elif operation=='difference_update':\n",
    "        a.difference_update(updaterSet)\n",
    "    output=sum(a)\n",
    "    \n",
    "input()\n",
    "a=set(map(int,input().split()))\n",
    "n=int(input())\n",
    "for i in range(n):\n",
    "    Operations()\n",
    "print(\"output:\",output)"
   ]
  },
  {
   "cell_type": "code",
   "execution_count": 11,
   "metadata": {},
   "outputs": [
    {
     "name": "stdout",
     "output_type": "stream",
     "text": [
      "5\n",
      "1 2 3 6 5 4 4 2 5 3 6 1 6 5 3 2 4 1 2 5 1 4 3 6 8 4 3 1 5 6 2\n",
      "The Captain's Room: 8\n"
     ]
    }
   ],
   "source": [
    "#17.The Captain's Room\n",
    "k=int(input())\n",
    "rooms=list(map(int,input().split()))\n",
    "a=set()\n",
    "b=set()\n",
    "for room in rooms:\n",
    "    if room not in a:\n",
    "        a.add(room)\n",
    "        b.add(room)\n",
    "    else:\n",
    "        b.discard(room)\n",
    "b=list(b)\n",
    "print(\"The Captain's Room:\",b[0])\n",
    "\n"
   ]
  },
  {
   "cell_type": "code",
   "execution_count": 12,
   "metadata": {},
   "outputs": [
    {
     "name": "stdout",
     "output_type": "stream",
     "text": [
      "1\n",
      "5 \n",
      "1 2 3 5 6\n",
      "9\n",
      "9 8 5 6 3 2 1 4 7\n",
      "True\n"
     ]
    }
   ],
   "source": [
    "#18.Check Subset\n",
    "\n",
    "def check():\n",
    "    x=int(input())\n",
    "    s1=set(map(int,input().split()))\n",
    "    y=int(input())\n",
    "    s2=set(map(int,input().split()))\n",
    "    l=[]\n",
    "    for i in s1:\n",
    "        if i in s2:\n",
    "            l.append(i)\n",
    "    l=set(l)\n",
    "    if l==s1:\n",
    "        print(True)\n",
    "    else:\n",
    "        print(False)\n",
    "\n",
    "t=int(input())\n",
    "for i in range(t):\n",
    "    check()\n"
   ]
  },
  {
   "cell_type": "code",
   "execution_count": 13,
   "metadata": {},
   "outputs": [
    {
     "name": "stdout",
     "output_type": "stream",
     "text": [
      "1 2 3 4 5 6 7 8 9 10 11 12 23 45 84 78\n",
      "2\n",
      "1 2 3 4 5 \n",
      "100 11 12\n",
      "False\n"
     ]
    }
   ],
   "source": [
    "#19.Check Strict Superset\n",
    "\n",
    "def check():\n",
    "    sub=set(map(int,input().split()))\n",
    "    if sub.issubset(a):\n",
    "        if len(a)==len(sub):\n",
    "            l.append(0)\n",
    "        else:\n",
    "            l.append(1)\n",
    "    else:\n",
    "        l.append(0)\n",
    "        \n",
    "        \n",
    "a=set(map(int,input().split()))\n",
    "n=int(input())\n",
    "l=[]\n",
    "for i in range(n):\n",
    "    check()\n",
    "if all(l)==1:\n",
    "    print(True)\n",
    "else:\n",
    "    print(False)"
   ]
  },
  {
   "cell_type": "code",
   "execution_count": null,
   "metadata": {},
   "outputs": [],
   "source": []
  }
 ],
 "metadata": {
  "kernelspec": {
   "display_name": "Python 3",
   "language": "python",
   "name": "python3"
  },
  "language_info": {
   "codemirror_mode": {
    "name": "ipython",
    "version": 3
   },
   "file_extension": ".py",
   "mimetype": "text/x-python",
   "name": "python",
   "nbconvert_exporter": "python",
   "pygments_lexer": "ipython3",
   "version": "3.8.3"
  }
 },
 "nbformat": 4,
 "nbformat_minor": 4
}
