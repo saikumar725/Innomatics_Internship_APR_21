{
 "cells": [
  {
   "cell_type": "code",
   "execution_count": 1,
   "metadata": {},
   "outputs": [],
   "source": [
    "import matplotlib.pyplot as plt\n",
    "import numpy as np\n",
    "from scipy.stats import norm\n",
    "from scipy.stats import t"
   ]
  },
  {
   "cell_type": "markdown",
   "metadata": {},
   "source": [
    "##  Q-1: Pista House selling Hyderabadi Chicken Dum biryani claims that each parcel packet has 500 grams of biryani (also mentioned on the label of packet). You are sceptic of their claims and believe that on average each packet does not contain 500 grams of biryani. How do you prove your claim? ~(Given that the population std is 50)~\n"
   ]
  },
  {
   "cell_type": "markdown",
   "metadata": {},
   "source": [
    "#### Sample=[490, 220, 470, 500, 495, 496, 496, 498, 508, 480]"
   ]
  },
  {
   "cell_type": "code",
   "execution_count": 13,
   "metadata": {},
   "outputs": [
    {
     "name": "stdout",
     "output_type": "stream",
     "text": [
      "mean of Sample_data is : 465.3\n"
     ]
    }
   ],
   "source": [
    "Sample =[490, 220, 470, 500, 495, 496, 496, 498, 508, 480]\n",
    "Sample_mean=sum(Sample)/len(Sample)\n",
    "print(\"mean of Sample_data is :\",Sample_mean)"
   ]
  },
  {
   "cell_type": "code",
   "execution_count": 14,
   "metadata": {},
   "outputs": [
    {
     "name": "stdout",
     "output_type": "stream",
     "text": [
      "Standard Deviation of Sample data is 86.84859110991829\n"
     ]
    }
   ],
   "source": [
    "import statistics\n",
    "sample = [490, 220, 470, 500, 495, 496, 496, 498, 508, 480]\n",
    "print(\"Standard Deviation of Sample data is % s\" \n",
    "         %(statistics.stdev(Sample, xbar =Sample_mean)))"
   ]
  },
  {
   "cell_type": "code",
   "execution_count": 15,
   "metadata": {},
   "outputs": [
    {
     "name": "stdout",
     "output_type": "stream",
     "text": [
      "2.2621571627409915\n"
     ]
    }
   ],
   "source": [
    "# Two tailed t score for 95% Confidence Level\n",
    "from scipy.stats import t\n",
    "alpha = 1 - 0.95\n",
    "t_critical = t.ppf(1-alpha/2, df = 9)\n",
    "print(t_critical)"
   ]
  },
  {
   "cell_type": "code",
   "execution_count": 16,
   "metadata": {},
   "outputs": [],
   "source": [
    "def t_score(Sample_size, Sample_mean, Pop_mean,Sample_std ):\n",
    "    numerator = Sample_mean - Pop_mean\n",
    "    denomenator = Sample_std / Sample_size**0.5\n",
    "    return numerator / denomenator"
   ]
  },
  {
   "cell_type": "code",
   "execution_count": 17,
   "metadata": {},
   "outputs": [],
   "source": [
    "Sample_size = 10\n",
    "Sample_mean = 465.3\n",
    "Pop_mean = 500\n",
    "Sample_std = 86.84"
   ]
  },
  {
   "cell_type": "code",
   "execution_count": 19,
   "metadata": {},
   "outputs": [
    {
     "name": "stdout",
     "output_type": "stream",
     "text": [
      "-1.2636001244569637\n"
     ]
    }
   ],
   "source": [
    "# Calculating the z-score\n",
    "\n",
    "t = t_score(Sample_size, Sample_mean, Pop_mean, Sample_std)\n",
    "\n",
    "print(t)"
   ]
  },
  {
   "cell_type": "code",
   "execution_count": 20,
   "metadata": {},
   "outputs": [
    {
     "name": "stdout",
     "output_type": "stream",
     "text": [
      "Fail to reject Null Hypothesis\n"
     ]
    }
   ],
   "source": [
    "# Conclusion using t test\n",
    "if(np.abs(t) > t_critical):\n",
    "    print(\"Reject Null Hypothesis\")\n",
    "else:\n",
    "    print(\"Fail to reject Null Hypothesis\")"
   ]
  },
  {
   "cell_type": "code",
   "execution_count": 21,
   "metadata": {},
   "outputs": [
    {
     "name": "stdout",
     "output_type": "stream",
     "text": [
      "p_value =  0.20637358891012125\n",
      "Fail to reject Null Hypothesis\n"
     ]
    }
   ],
   "source": [
    "p_value = 2 * (1.0 - norm.cdf(np.abs(t)))\n",
    "\n",
    "print(\"p_value = \", p_value)\n",
    "\n",
    "if(p_value < alpha):\n",
    "    print(\"Reject Null Hypothesis\")\n",
    "else:\n",
    "    print(\"Fail to reject Null Hypothesis\")"
   ]
  },
  {
   "cell_type": "code",
   "execution_count": 22,
   "metadata": {},
   "outputs": [
    {
     "data": {
      "text/plain": [
       "Text(465.3, 0.0007, 'x_bar')"
      ]
     },
     "execution_count": 22,
     "metadata": {},
     "output_type": "execute_result"
    },
    {
     "data": {
      "image/png": "[encoded data removed]",
      "text/plain": [
       "<Figure size 432x288 with 1 Axes>"
      ]
     },
     "metadata": {
      "needs_background": "light"
     },
     "output_type": "display_data"
    }
   ],
   "source": [
    "\n",
    "# Ploting the sampling distribution with rejection regions\n",
    "\n",
    "# Defining the x minimum and x maximum\n",
    "x_min = 400\n",
    "x_max = 600\n",
    "\n",
    "\n",
    "# Defining the sampling distribution mean and sampling distribution std\n",
    "mean = Pop_mean\n",
    "std = Sample_std / Sample_size**0.5\n",
    "\n",
    "\n",
    "# Ploting the graph and setting the x limits\n",
    "x = np.linspace(x_min, x_max, 100)\n",
    "y = norm.pdf(x, mean, std)\n",
    "plt.xlim(x_min, x_max)\n",
    "plt.plot(x, y)\n",
    "\n",
    "\n",
    "# Computing the left and right critical values (Two tailed Test)\n",
    "z_critical_left = Pop_mean + (-t_critical * std)\n",
    "z_critical_right = Pop_mean + (t_critical * std)\n",
    "\n",
    "\n",
    "# Shading the left rejection region\n",
    "x1 = np.linspace(x_min, z_critical_left, 100)\n",
    "y1 = norm.pdf(x1, mean, std)\n",
    "plt.fill_between(x1, y1, color='orange')\n",
    "\n",
    "\n",
    "# Shading the right rejection region\n",
    "x2 = np.linspace(z_critical_right, x_max, 100)\n",
    "y2 = norm.pdf(x2, mean, std)\n",
    "plt.fill_between(x2, y2, color='orange')\n",
    "\n",
    "\n",
    "# Ploting the sample mean and concluding the results \n",
    "plt.scatter(Sample_mean, 0)\n",
    "plt.annotate(\"x_bar\", (Sample_mean, 0.0007))\n",
    "\n",
    "\n",
    "# In this case sample mean does not falls in the rejection region\n",
    "# i.e. here we Fail to reject Null Hypothesis"
   ]
  },
  {
   "cell_type": "markdown",
   "metadata": {},
   "source": [
    "# Solution<br>\n",
    "Step - 1:<br>\n",
    "Null Hypothesis (Status Quo): $$ H_0= 500 $$  <br>\n",
    "Alternate Hypothesis (Bold claim): $$H_1 \\neq 500$$\n",
    "<br><br>\n",
    "Step - 2:<br>\n",
    "Sample of size n=10 $$[490, 220, 470, 500, 495, 496, 496, 498, 508, 480]  $$\n",
    "Compute the mean from this sample $$ \\bar{x}=465.3 $$<br>\n",
    "Step - 3: Compute Test Statistic:<br>\n",
    "population variance is unknown$$ t = \\frac{\\bar{x} - \\mu}{s/\\sqrt{n}} $$<br>\n",
    "Step - 4: Decide significance level $$ \\alpha=0.05 $$<br>\n",
    "step-5.1:Apply decision rule:<br>  \n",
    "Two tailed t-test:$$ |t|>t_{n-1,\\frac{\\alpha}{2}} \\Rightarrow Accept \\ H_1 \\ or \\ Accept \\ H_0 $$\n",
    "Step - 5.2: Compute p-value:<br>\n",
    "For two tailed test:$$ p \\ value = 2 * (1.0 - cdf(test \\ statistic)) $$\n",
    "    \n",
    "Hence $$p \\ value >\\alpha \\Rightarrow \\ \"Fail \\ to\\ reject \\ Null \\ Hypothesis\" $$"
   ]
  },
  {
   "cell_type": "markdown",
   "metadata": {},
   "source": [
    "<hr style=\"height:5px;border-width:0;color:gray;background-color:gray\">"
   ]
  },
  {
   "cell_type": "markdown",
   "metadata": {},
   "source": [
    "\n",
    "## Q-2: You have developed a new Natural Language Processing Algorithms and done a user study. You claim that the average rating given by the users is greater than 4 on a scale of 1 to 5. How do you prove this to your client? ~(Given that the population std is 0.5)~"
   ]
  },
  {
   "cell_type": "markdown",
   "metadata": {},
   "source": [
    "#### Sample=[4, 3, 5, 4, 5, 3, 5, 5, 4, 2, 4, 5, 5, 4, 4, 5, 4, 5, 4, 5]"
   ]
  },
  {
   "cell_type": "code",
   "execution_count": 23,
   "metadata": {},
   "outputs": [
    {
     "name": "stdout",
     "output_type": "stream",
     "text": [
      "mean of Sample_data is : 4.25\n"
     ]
    }
   ],
   "source": [
    "Sample =[4, 3, 5, 4, 5, 3, 5, 5, 4, 2, 4, 5, 5, 4, 4, 5, 4, 5, 4, 5]\n",
    "Sample_mean=sum(Sample)/len(Sample)\n",
    "print(\"mean of Sample_data is :\",Sample_mean)"
   ]
  },
  {
   "cell_type": "code",
   "execution_count": 24,
   "metadata": {},
   "outputs": [
    {
     "data": {
      "text/plain": [
       "10"
      ]
     },
     "execution_count": 24,
     "metadata": {},
     "output_type": "execute_result"
    }
   ],
   "source": [
    "len(sample)"
   ]
  },
  {
   "cell_type": "code",
   "execution_count": 25,
   "metadata": {},
   "outputs": [
    {
     "name": "stdout",
     "output_type": "stream",
     "text": [
      "Standard Deviation of Sample data is 0.8506963092234007\n"
     ]
    }
   ],
   "source": [
    "import statistics\n",
    "sample = [4, 3, 5, 4, 5, 3, 5, 5, 4, 2, 4, 5, 5, 4, 4, 5, 4, 5, 4, 5]\n",
    "print(\"Standard Deviation of Sample data is % s\" \n",
    "         %(statistics.stdev(Sample, xbar =Sample_mean)))"
   ]
  },
  {
   "cell_type": "code",
   "execution_count": 26,
   "metadata": {},
   "outputs": [
    {
     "name": "stdout",
     "output_type": "stream",
     "text": [
      "1.729132811521367\n"
     ]
    }
   ],
   "source": [
    "# one tailed t score for 95% Confidence Level\n",
    "from scipy.stats import t\n",
    "alpha = 1 - 0.95\n",
    "t_critical = t.ppf(1-alpha, df = 19)\n",
    "print(t_critical)"
   ]
  },
  {
   "cell_type": "code",
   "execution_count": 27,
   "metadata": {},
   "outputs": [],
   "source": [
    "def t_score(Sample_size, Sample_mean, Pop_mean,Sample_std ):\n",
    "    numerator = Sample_mean - Pop_mean\n",
    "    denomenator = Sample_std / Sample_size**0.5\n",
    "    return numerator / denomenator"
   ]
  },
  {
   "cell_type": "code",
   "execution_count": 28,
   "metadata": {},
   "outputs": [],
   "source": [
    "Sample_size = 20\n",
    "Sample_mean = 4.25\n",
    "Pop_mean = 4\n",
    "Sample_std =0.85"
   ]
  },
  {
   "cell_type": "code",
   "execution_count": 29,
   "metadata": {},
   "outputs": [
    {
     "name": "stdout",
     "output_type": "stream",
     "text": [
      "1.3153341044116411\n"
     ]
    }
   ],
   "source": [
    "#calculating t score value\n",
    "t = t_score(Sample_size, Sample_mean, Pop_mean, Sample_std)\n",
    "print(t)"
   ]
  },
  {
   "cell_type": "code",
   "execution_count": 30,
   "metadata": {},
   "outputs": [
    {
     "name": "stdout",
     "output_type": "stream",
     "text": [
      "Fail to reject Null Hypothesis\n"
     ]
    }
   ],
   "source": [
    "# Conclusion using t test\n",
    "if(np.abs(t) > t_critical):\n",
    "    print(\"Reject Null Hypothesis\")\n",
    "else:\n",
    "    print(\"Fail to reject Null Hypothesis\")"
   ]
  },
  {
   "cell_type": "code",
   "execution_count": 31,
   "metadata": {},
   "outputs": [
    {
     "name": "stdout",
     "output_type": "stream",
     "text": [
      "p_value =  0.09419882054165774\n",
      "Fail to reject Null Hypothesis\n"
     ]
    }
   ],
   "source": [
    "p_value = (1.0 - norm.cdf(np.abs(t)))\n",
    "\n",
    "print(\"p_value = \", p_value)\n",
    "\n",
    "if(p_value < alpha):\n",
    "    print(\"Reject Null Hypothesis\")\n",
    "else:\n",
    "    print(\"Fail to reject Null Hypothesis\")"
   ]
  },
  {
   "cell_type": "code",
   "execution_count": 32,
   "metadata": {},
   "outputs": [
    {
     "data": {
      "text/plain": [
       "Text(4.25, 0.1, 'x_bar')"
      ]
     },
     "execution_count": 32,
     "metadata": {},
     "output_type": "execute_result"
    },
    {
     "data": {
      "image/png": "[encoded data removed]",
      "text/plain": [
       "<Figure size 432x288 with 1 Axes>"
      ]
     },
     "metadata": {
      "needs_background": "light"
     },
     "output_type": "display_data"
    }
   ],
   "source": [
    "# Ploting the sampling distribution with rejection regions\n",
    "\n",
    "# Defining the x minimum and x maximum\n",
    "x_min = 3.5\n",
    "x_max = 4.5\n",
    "\n",
    "\n",
    "# Defining the sampling distribution mean and sampling distribution std\n",
    "mean = Pop_mean\n",
    "std = Sample_std / (Sample_size**0.5)\n",
    "\n",
    "\n",
    "# Ploting the graph and setting the x limits\n",
    "x = np.linspace(x_min, x_max, 100)\n",
    "y = norm.pdf(x, mean, std)\n",
    "plt.xlim(x_min, x_max)\n",
    "plt.plot(x, y)\n",
    "\n",
    "\n",
    "# Computing the right critical value (Right tailed Test)\n",
    "t_critical_right = Pop_mean + (t_critical * std)\n",
    "\n",
    "\n",
    "# Shading the right rejection region\n",
    "x1 = np.linspace(t_critical_right, x_max, 100)\n",
    "y1 = norm.pdf(x1, mean, std)\n",
    "plt.fill_between(x1, y1, color='orange')\n",
    "\n",
    "\n",
    "# Ploting the sample mean and concluding the results \n",
    "plt.scatter(Sample_mean, 0)\n",
    "plt.annotate(\"x_bar\", (Sample_mean, 0.1))\n",
    "\n",
    "# In this case  sample mean does not falls in the rejection region\n",
    "# i.e. we Fail to reject Null Hypothesis"
   ]
  },
  {
   "cell_type": "markdown",
   "metadata": {},
   "source": [
    "# Solution<br>\n",
    "Step - 1:<br>\n",
    "Null Hypothesis (Status Quo): $$ H_0 \\leq 4 $$  <br>\n",
    "Alternate Hypothesis (Bold claim): $$H_1 > 4$$\n",
    "<br><br>\n",
    "Step - 2:<br>\n",
    "Sample of size n=20 $$[4, 3, 5, 4, 5, 3, 5, 5, 4, 2, 4, 5, 5, 4, 4, 5, 4, 5, 4, 5]  $$\n",
    "Compute the mean from this sample $$ \\bar{x}=4.25 $$<br>\n",
    "Step - 3: Compute Test Statistic:<br>\n",
    "population variance is unknown$$ t = \\frac{\\bar{x} - \\mu}{s/\\sqrt{n}} $$<br>\n",
    "Step - 4: Decide significance level $$ \\alpha=0.05 $$<br>\n",
    "step-5.1:Apply decision rule:<br>  \n",
    "<ul><li>Right tailed t-test:</li></ul>$$ t > t_{n-1,\\alpha} \\Rightarrow Accept \\ H_1 \\ or \\ Reject \\ H_0 $$\n",
    "Step - 5.2: Compute p-value:<br>\n",
    "For two tailed test:$$ p \\ value = (1.0 - cdf(test \\ statistic)) $$\n",
    "    \n",
    "Hence $$p \\ value >\\alpha \\Rightarrow \"Fail \\ to \\ reject \\ Null \\ Hypothesis\" $$"
   ]
  },
  {
   "cell_type": "markdown",
   "metadata": {},
   "source": [
    "<hr style=\"height:5px;border-width:0;color:gray;background-color:gray\">"
   ]
  },
  {
   "cell_type": "markdown",
   "metadata": {},
   "source": [
    "### Q-3: TATA has developed a better fuel management system for the SUV segment. They claim that with this system, on average the SUV's mileage is at least 15 km/litre? ~(Given that the population std is 1)~"
   ]
  },
  {
   "cell_type": "markdown",
   "metadata": {},
   "source": [
    "#### Sample =[14.08, 14.13, 15.65, 13.78, 16.26, 14.97, 15.36, 15.81, 14.53, 16.79, 15.78, 16.98, 13.23, 15.43, 15.46, 13.88, 14.31, 14.41, 15.76, 15.38]"
   ]
  },
  {
   "cell_type": "code",
   "execution_count": 33,
   "metadata": {},
   "outputs": [
    {
     "name": "stdout",
     "output_type": "stream",
     "text": [
      "mean of Sample_data is : 15.098999999999998\n"
     ]
    }
   ],
   "source": [
    "Sample =[14.08, 14.13, 15.65, 13.78, 16.26, 14.97, 15.36, 15.81, 14.53, 16.79, 15.78, 16.98, 13.23, 15.43, 15.46, 13.88, 14.31, 14.41, 15.76, 15.38]\n",
    "Sample_mean=sum(Sample)/len(Sample)\n",
    "print(\"mean of Sample_data is :\",Sample_mean)"
   ]
  },
  {
   "cell_type": "code",
   "execution_count": 34,
   "metadata": {},
   "outputs": [
    {
     "data": {
      "text/plain": [
       "20"
      ]
     },
     "execution_count": 34,
     "metadata": {},
     "output_type": "execute_result"
    }
   ],
   "source": [
    "len(Sample)"
   ]
  },
  {
   "cell_type": "code",
   "execution_count": 35,
   "metadata": {},
   "outputs": [
    {
     "name": "stdout",
     "output_type": "stream",
     "text": [
      "Standard Deviation of Sample data is 1.0253671999517255\n"
     ]
    }
   ],
   "source": [
    "import statistics\n",
    "sample = [14.08, 14.13, 15.65, 13.78, 16.26, 14.97, 15.36, 15.81, 14.53, 16.79, 15.78, 16.98, 13.23, 15.43, 15.46, 13.88, 14.31, 14.41, 15.76, 15.38]\n",
    "print(\"Standard Deviation of Sample data is % s\" \n",
    "         %(statistics.stdev(Sample, xbar =Sample_mean)))"
   ]
  },
  {
   "cell_type": "code",
   "execution_count": 36,
   "metadata": {},
   "outputs": [
    {
     "name": "stdout",
     "output_type": "stream",
     "text": [
      "1.729132811521367\n"
     ]
    }
   ],
   "source": [
    "# one tailed t score for 95% Confidence Level\n",
    "from scipy.stats import t\n",
    "alpha = 1 - 0.95\n",
    "t_critical = t.ppf(1-alpha, df = 19)\n",
    "print(t_critical)"
   ]
  },
  {
   "cell_type": "code",
   "execution_count": 37,
   "metadata": {},
   "outputs": [],
   "source": [
    "def t_score(Sample_size, Sample_mean, Pop_mean,Sample_std ):\n",
    "    numerator = Sample_mean - Pop_mean\n",
    "    denomenator = Sample_std / Sample_size**0.5\n",
    "    return numerator / denomenator"
   ]
  },
  {
   "cell_type": "code",
   "execution_count": 38,
   "metadata": {},
   "outputs": [],
   "source": [
    "Sample_size = 20\n",
    "Sample_mean =15.098999999999998\n",
    "Pop_mean = 15\n",
    "Sample_std =1.0253671999517255"
   ]
  },
  {
   "cell_type": "code",
   "execution_count": 39,
   "metadata": {},
   "outputs": [
    {
     "name": "stdout",
     "output_type": "stream",
     "text": [
      "0.4317882018907916\n"
     ]
    }
   ],
   "source": [
    "#calculating t score value\n",
    "t = t_score(Sample_size, Sample_mean, Pop_mean, Sample_std)\n",
    "print(t)"
   ]
  },
  {
   "cell_type": "code",
   "execution_count": 40,
   "metadata": {},
   "outputs": [
    {
     "name": "stdout",
     "output_type": "stream",
     "text": [
      "Fail to reject Null Hypothesis\n"
     ]
    }
   ],
   "source": [
    "# Conclusion using t test\n",
    "if(np.abs(t) > t_critical):\n",
    "    print(\"Reject Null Hypothesis\")\n",
    "else:\n",
    "    print(\"Fail to reject Null Hypothesis\")"
   ]
  },
  {
   "cell_type": "code",
   "execution_count": 41,
   "metadata": {},
   "outputs": [
    {
     "name": "stdout",
     "output_type": "stream",
     "text": [
      "p_value =  0.3329476775823499\n",
      "Fail to reject Null Hypothesis\n"
     ]
    }
   ],
   "source": [
    "p_value = (1.0 - norm.cdf(np.abs(t)))\n",
    "\n",
    "print(\"p_value = \", p_value)\n",
    "\n",
    "if(p_value < alpha):\n",
    "    print(\"Reject Null Hypothesis\")\n",
    "else:\n",
    "    print(\"Fail to reject Null Hypothesis\")"
   ]
  },
  {
   "cell_type": "code",
   "execution_count": 42,
   "metadata": {},
   "outputs": [
    {
     "data": {
      "text/plain": [
       "Text(15.098999999999998, 0.1, 'x_bar')"
      ]
     },
     "execution_count": 42,
     "metadata": {},
     "output_type": "execute_result"
    },
    {
     "data": {
      "image/png": "[encoded data removed]",
      "text/plain": [
       "<Figure size 432x288 with 1 Axes>"
      ]
     },
     "metadata": {
      "needs_background": "light"
     },
     "output_type": "display_data"
    }
   ],
   "source": [
    "\n",
    "x_min = 13\n",
    "x_max = 17\n",
    "\n",
    "mean = Pop_mean\n",
    "std = Sample_std / (Sample_size**0.5)\n",
    "\n",
    "x = np.linspace(x_min, x_max, 100)\n",
    "y = norm.pdf(x, mean, std)\n",
    "\n",
    "plt.xlim(x_min, x_max)\n",
    "# plt.ylim(0, 0.03)\n",
    "\n",
    "plt.plot(x, y)\n",
    "\n",
    "t_critical_right = Pop_mean + (t_critical * std)\n",
    "\n",
    "x1 = np.linspace(t_critical_right, x_max, 100)\n",
    "y1 = norm.pdf(x1, mean, std)\n",
    "plt.fill_between(x1, y1, color='orange')\n",
    "\n",
    "plt.scatter(Sample_mean, 0)\n",
    "plt.annotate(\"x_bar\", (Sample_mean, 0.1))\n",
    "\n",
    "# In this case sample mean falls in the acceptance region\n",
    "# i.e. Fail to Reject the Null Hypothesis"
   ]
  },
  {
   "cell_type": "markdown",
   "metadata": {},
   "source": [
    "# Solution<br>\n",
    "Step - 1:<br>\n",
    "Null Hypothesis (Status Quo): $$ H_0 \\leq 15 $$  <br>\n",
    "Alternate Hypothesis (Bold claim): $$H_1 > 15$$\n",
    "<br><br>\n",
    "Step - 2:<br>\n",
    "Sample of size n=20 $$[14.08, 14.13, 15.65, 13.78, 16.26, 14.97, 15.36, 15.81, 14.53, 16.79, 15.78, 16.98, 13.23, 15.43, 15.46, 13.88, 14.31, 14.41, 15.76, 15.38]  $$\n",
    "Compute the mean from this sample $$ \\bar{x} =15.09 $$<br>\n",
    "Step - 3: Compute Test Statistic:<br>\n",
    "population variance is unknown$$ t = \\frac{\\bar{x} - \\mu}{s/\\sqrt{n}} $$<br>\n",
    "Step - 4: Decide significance level $$ \\alpha=0.05 $$<br>\n",
    "step-5.1:Apply decision rule:<br>  \n",
    "<ul><li>Right tailed t-test:</li></ul>$$ t > t_{n-1,\\alpha} \\Rightarrow Accept \\ H_1 \\ or \\ Reject \\ H_0 $$\n",
    "Step - 5.2: Compute p-value:<br>\n",
    "For two tailed test:$$ p \\ value = (1.0 - cdf(test \\ statistic)) $$\n",
    "    \n",
    "Hence $$p \\ value >\\alpha \\Rightarrow \"Fail \\ to \\ reject \\ Null \\ Hypothesis\" $$"
   ]
  },
  {
   "cell_type": "markdown",
   "metadata": {},
   "source": [
    "<hr style=\"height:5px;border-width:0;color:gray;background-color:gray\">"
   ]
  },
  {
   "cell_type": "markdown",
   "metadata": {},
   "source": [
    "### Q-4: You have developed a new Machine Learning Application and claim that on average it takes less than 100 ms to predict for any future datapoint. How do you convince your client about this claim? ~(Based on past data you know that the std is 10 ms)~"
   ]
  },
  {
   "cell_type": "code",
   "execution_count": 43,
   "metadata": {},
   "outputs": [
    {
     "name": "stdout",
     "output_type": "stream",
     "text": [
      "2.3646058614359737\n"
     ]
    }
   ],
   "source": [
    "# one tailed t score for 95% Confidence Level\n",
    "from scipy.stats import t\n",
    "alpha = 1 - 0.99\n",
    "t_critical = t.ppf(1-alpha, df = 99)\n",
    "print(t_critical)"
   ]
  },
  {
   "cell_type": "code",
   "execution_count": 44,
   "metadata": {},
   "outputs": [],
   "source": [
    "def t_score(Sample_size, Sample_mean, Pop_mean,Sample_std ):\n",
    "    numerator = Sample_mean - Pop_mean\n",
    "    denomenator = Sample_std / Sample_size**0.5\n",
    "    return numerator / denomenator"
   ]
  },
  {
   "cell_type": "code",
   "execution_count": 45,
   "metadata": {},
   "outputs": [],
   "source": [
    "Sample_size = 100\n",
    "Sample_mean =97.5\n",
    "Pop_mean = 100\n",
    "Sample_std =7"
   ]
  },
  {
   "cell_type": "code",
   "execution_count": 46,
   "metadata": {},
   "outputs": [
    {
     "name": "stdout",
     "output_type": "stream",
     "text": [
      "-3.5714285714285716\n"
     ]
    }
   ],
   "source": [
    "#calculating t score value\n",
    "t = t_score(Sample_size, Sample_mean, Pop_mean, Sample_std)\n",
    "print(t)"
   ]
  },
  {
   "cell_type": "code",
   "execution_count": 47,
   "metadata": {},
   "outputs": [
    {
     "name": "stdout",
     "output_type": "stream",
     "text": [
      "Reject Null Hypothesis\n"
     ]
    }
   ],
   "source": [
    "# Conclusion using t test\n",
    "if(np.abs(t) > t_critical):\n",
    "    print(\"Reject Null Hypothesis\")\n",
    "else:\n",
    "    print(\"Fail to reject Null Hypothesis\")"
   ]
  },
  {
   "cell_type": "code",
   "execution_count": 48,
   "metadata": {},
   "outputs": [
    {
     "name": "stdout",
     "output_type": "stream",
     "text": [
      "p_value =  0.00017751969037349546\n",
      "Reject Null Hypothesis\n"
     ]
    }
   ],
   "source": [
    "p_value = (1.0 - norm.cdf(np.abs(t)))\n",
    "\n",
    "print(\"p_value = \", p_value)\n",
    "\n",
    "if(p_value < 0.01):\n",
    "    print(\"Reject Null Hypothesis\")\n",
    "else:\n",
    "    print(\"Fail to reject Null Hypothesis\")"
   ]
  },
  {
   "cell_type": "code",
   "execution_count": 49,
   "metadata": {},
   "outputs": [
    {
     "data": {
      "text/plain": [
       "Text(97.5, 0.02, 'x_bar')"
      ]
     },
     "execution_count": 49,
     "metadata": {},
     "output_type": "execute_result"
    },
    {
     "data": {
      "image/png": "[encoded data removed]",
      "text/plain": [
       "<Figure size 432x288 with 1 Axes>"
      ]
     },
     "metadata": {
      "needs_background": "light"
     },
     "output_type": "display_data"
    }
   ],
   "source": [
    "# Ploting the sampling distribution\n",
    "x_min = 95\n",
    "x_max = 105\n",
    "\n",
    "mean = Pop_mean\n",
    "std = Sample_std / (Sample_size**0.5)\n",
    "\n",
    "x = np.linspace(x_min, x_max, 100)\n",
    "y = norm.pdf(x, mean, std)\n",
    "\n",
    "plt.xlim(x_min, x_max)\n",
    "# plt.ylim(0, 0.03)\n",
    "\n",
    "plt.plot(x, y)\n",
    "\n",
    "t_critical_left = Pop_mean + (-t_critical * std)\n",
    "\n",
    "x1 = np.linspace(x_min, t_critical_left, 100)\n",
    "y1 = norm.pdf(x1, mean, std)\n",
    "plt.fill_between(x1, y1, color='orange')\n",
    "\n",
    "plt.scatter(Sample_mean, 0)\n",
    "plt.annotate(\"x_bar\", (Sample_mean, 0.02))\n",
    "\n",
    "# In this case sample mean  falls in the rejection region\n",
    "\n",
    "# i.e. we reject Null Hypothesis"
   ]
  },
  {
   "cell_type": "markdown",
   "metadata": {},
   "source": [
    "# Solution<br>\n",
    "Step - 1:<br>\n",
    "Null Hypothesis (Status Quo): $$ H_0  < 100 $$  <br>\n",
    "Alternate Hypothesis (Bold claim): $$H_1 \\geq 100$$\n",
    "<br><br>\n",
    "Step - 2:<br>\n",
    "Sample of size n=100  \n",
    "Compute the mean from this sample $$ \\bar{x} =97.5 $$<br>\n",
    "Step - 3: Compute Test Statistic:<br>\n",
    "population variance is unknown$$ t = \\frac{\\bar{x} - \\mu}{s/\\sqrt{n}} $$<br>\n",
    "Step - 4: Decide significance level $$ \\alpha=0.05 $$<br>\n",
    "step-5.1:Apply decision rule:<br>  \n",
    "<ul><li>left tailed t-test:</li></ul>$$ t <t_{n-1,\\alpha} \\Rightarrow Accept \\ H_1 \\ or \\ Reject \\ H_0 $$\n",
    "Step - 5.2: Compute p-value:<br>\n",
    "For two tailed test:$$ p \\ value = (1.0 - cdf(test \\ statistic)) $$\n",
    "    \n",
    "Hence $$p \\ value < \\alpha \\Rightarrow Reject \\ Null \\ Hypothesis\" $$"
   ]
  },
  {
   "cell_type": "code",
   "execution_count": null,
   "metadata": {},
   "outputs": [],
   "source": []
  }
 ],
 "metadata": {
  "kernelspec": {
   "display_name": "Python 3",
   "language": "python",
   "name": "python3"
  },
  "language_info": {
   "codemirror_mode": {
    "name": "ipython",
    "version": 3
   },
   "file_extension": ".py",
   "mimetype": "text/x-python",
   "name": "python",
   "nbconvert_exporter": "python",
   "pygments_lexer": "ipython3",
   "version": "3.8.3"
  }
 },
 "nbformat": 4,
 "nbformat_minor": 4
}
