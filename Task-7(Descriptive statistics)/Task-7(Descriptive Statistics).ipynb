{
 "cells": [
  {
   "cell_type": "markdown",
   "metadata": {},
   "source": [
    "# Mean\n",
    "<ul>\n",
    " <li>The mean is the average or the most common value in a collection of numbers.</li>\n",
    "<li>The mean (average) of a data set is found by adding all numbers in the data set and then dividing by the number of values in the set.</li>\n",
    "<li>.Mean is effected by outliers </li></ul>"
   ]
  },
  {
   "cell_type": "markdown",
   "metadata": {},
   "source": [
    "\n",
    "\n",
    "![mean](https://user-images.githubusercontent.com/80379608/118645190-41e37780-b7fc-11eb-99d6-bd31bf8336ad.gif)"
   ]
  },
  {
   "cell_type": "markdown",
   "metadata": {},
   "source": [
    "formula to find mean is:<br>\n",
    "${\\displaystyle Mean={\\frac {1}{n}}\\sum _{i=1}^{n}a_{i}={\\frac {a_{1}+a_{2}+\\cdots +a_{n}}{n}}}$"
   ]
  },
  {
   "cell_type": "markdown",
   "metadata": {},
   "source": [
    "code examples without libary function\n"
   ]
  },
  {
   "cell_type": "code",
   "execution_count": 19,
   "metadata": {},
   "outputs": [
    {
     "name": "stdout",
     "output_type": "stream",
     "text": [
      "5000 6000 10000 10000 12500 14000 15000 18000 19000 20000 20000 22000 23400 24000 24000 25000 25000 25000 29000 30000 30500 32000 34000 34000 35000 35000 39000 40000 42000 43000 45000 45000 45000 45000 46000 47000 50000 50500 55000 60000 60000 65000 70000 80000 85000 90000 98000 100000 100000 100000\n",
      "Mean of above data is: 41558.0\n"
     ]
    }
   ],
   "source": [
    "n= list(map(int, input().split()))\n",
    "print('Mean of  data is:',sum(n)/len(n))"
   ]
  },
  {
   "cell_type": "markdown",
   "metadata": {},
   "source": [
    "code examples with libary function"
   ]
  },
  {
   "cell_type": "code",
   "execution_count": 6,
   "metadata": {},
   "outputs": [
    {
     "name": "stdout",
     "output_type": "stream",
     "text": [
      "Mean of  data is: 41558\n"
     ]
    }
   ],
   "source": [
    "import statistics\n",
    "\n",
    "mean=statistics.mean([5000,6000,10000,10000,12500,14000,15000,18000,19000,20000,20000,22000,23400,24000,24000,25000,25000,25000,29000,30000,30500,32000,34000,34000,35000,35000,39000,40000,42000,43000,45000,45000,45000,45000,46000,47000,50000,50500,55000,60000,60000,65000,70000,80000,85000,90000,98000,100000,100000,100000\n",
    "])\n",
    "print('Mean of  data is:',mean)"
   ]
  },
  {
   "cell_type": "markdown",
   "metadata": {},
   "source": [
    "## Median"
   ]
  },
  {
   "cell_type": "markdown",
   "metadata": {},
   "source": [
    "<ul>\n",
    "<li>The median is the middle number in a data set.</li>\n",
    "<li>To find the median, list your data points in ascending order and then find the middle number. </li>\n",
    "<li>If the sum of dataset is odd number then middle value is median.</li>\n",
    "<li>If the sum of dataset is even then median can calculated by following formula.</li>\n",
    "<li>Median is robust to outliers</li></ul>\n",
    "\n",
    "formula to find median is:<br>\n",
    "$(\\frac{N}{2},\\frac{N}{2}+1)$\n",
    "\n",
    "where N is sum of dataset"
   ]
  },
  {
   "cell_type": "markdown",
   "metadata": {},
   "source": [
    "![median](https://user-images.githubusercontent.com/80379608/118645252-5162c080-b7fc-11eb-8a40-e4bd5d87fdc9.gif)"
   ]
  },
  {
   "cell_type": "markdown",
   "metadata": {},
   "source": [
    "code examples without libary function\n"
   ]
  },
  {
   "cell_type": "code",
   "execution_count": 21,
   "metadata": {},
   "outputs": [
    {
     "name": "stdout",
     "output_type": "stream",
     "text": [
      "5000 6000 10000 10000 12500 14000 15000 18000 19000 20000 20000 22000 23400 24000 24000 25000 25000 25000 29000 30000 30500 32000 34000 34000 35000 35000 39000 40000 42000 43000 45000 45000 45000 45000 46000 47000 50000 50500 55000 60000 60000 65000 70000 80000 85000 90000 98000 100000 100000 100000\n",
      "Median is: 35000.0\n"
     ]
    }
   ],
   "source": [
    "n= list(map(int, input().split()))\n",
    "x=len(n)\n",
    "n.sort()\n",
    "if x % 2 == 0:\n",
    "    median1=n[x//2]\n",
    "    median2=n[x//2-1]\n",
    "    median=(median1+median2)/2\n",
    "else:\n",
    "    median=n[x//2]\n",
    "print('Median is:',median)"
   ]
  },
  {
   "cell_type": "markdown",
   "metadata": {},
   "source": [
    "code examples with libary function"
   ]
  },
  {
   "cell_type": "code",
   "execution_count": 8,
   "metadata": {},
   "outputs": [
    {
     "name": "stdout",
     "output_type": "stream",
     "text": [
      "Median is: 35000.0\n"
     ]
    }
   ],
   "source": [
    "import statistics\n",
    "\n",
    "median=statistics.median([5000,6000,10000,10000,12500,14000,15000,18000,19000,20000,20000,22000,23400,24000,24000,25000,25000,25000,29000,30000,30500,32000,34000,34000,35000,35000,39000,40000,42000,43000,45000,45000,45000,45000,46000,47000,50000,50500,55000,60000,60000,65000,70000,80000,85000,90000,98000,100000,100000,100000\n",
    "])\n",
    "print('Median is:',median)"
   ]
  },
  {
   "cell_type": "markdown",
   "metadata": {},
   "source": [
    "## Mode"
   ]
  },
  {
   "cell_type": "markdown",
   "metadata": {},
   "source": [
    "<ul>\n",
    "<li>Mode is the most repetitive value of a given set of values.</li>\n",
    "<li>To find the mode of a dataset arrange the dataset  in ascending order with unique values.</li>\n",
    "<li>Create a frequency column and write the frequency of each value.</li>\n",
    "<li>The highest frequency corresponding values will be mode.</li>\n",
    "<li>Mode is robust to outlier</li> </ul>"
   ]
  },
  {
   "cell_type": "markdown",
   "metadata": {},
   "source": [
    "![mode](https://user-images.githubusercontent.com/80379608/118645306-62133680-b7fc-11eb-86df-98cedf6bad8c.gif)"
   ]
  },
  {
   "cell_type": "markdown",
   "metadata": {},
   "source": [
    "code examples without libary function"
   ]
  },
  {
   "cell_type": "code",
   "execution_count": 9,
   "metadata": {},
   "outputs": [
    {
     "name": "stdout",
     "output_type": "stream",
     "text": [
      "5000 6000 10000 10000 12500 14000 15000 18000 19000 20000 20000 22000 23400 24000 24000 25000 25000 25000 29000 30000 30500 32000 34000 34000 35000 35000 39000 40000 42000 43000 45000 45000 45000 45000 46000 47000 50000 50500 55000 60000 60000 65000 70000 80000 85000 90000 98000 100000 100000 100000\n",
      "Mode is: 45000\n"
     ]
    }
   ],
   "source": [
    "from collections import Counter\n",
    "a= list(map(int, input().split()))\n",
    "n = len(a)\n",
    "  \n",
    "data = Counter(a)\n",
    "get_mode = dict(data)\n",
    "mode = [k for k, v in get_mode.items() if v == max(list(data.values()))]\n",
    "  \n",
    "if len(mode) == n:\n",
    "    get_mode = \"No mode found\"\n",
    "else:\n",
    "    get_mode = \"Mode is: \" + ', '.join(map(str, mode))\n",
    "      \n",
    "print(get_mode)"
   ]
  },
  {
   "cell_type": "markdown",
   "metadata": {},
   "source": [
    "code examples with libary function"
   ]
  },
  {
   "cell_type": "code",
   "execution_count": 10,
   "metadata": {},
   "outputs": [
    {
     "name": "stdout",
     "output_type": "stream",
     "text": [
      "Mode is: 45000\n"
     ]
    }
   ],
   "source": [
    "import statistics\n",
    "mode=statistics.mode([5000,6000,10000,10000,12500,14000,15000,18000,19000,20000,20000,22000,23400,24000,24000,25000,25000,25000,29000,30000,30500,32000,34000,34000,35000,35000,39000,40000,42000,43000,45000,45000,45000,45000,46000,47000,50000,50500,55000,60000,60000,65000,70000,80000,85000,90000,98000,100000,100000,100000\n",
    "])\n",
    "print('Mode is:',mode)"
   ]
  },
  {
   "cell_type": "markdown",
   "metadata": {},
   "source": [
    "## Varaince"
   ]
  },
  {
   "cell_type": "markdown",
   "metadata": {},
   "source": [
    "<ul>\n",
    "<li>The term variance refers to a statistical measurement of the spread between numbers in a data set.</li>\n",
    "<li>More specifically, variance measures how far each number in the set is from the mean and thus from every other number in the set.</li>\n",
    "<li>Varience of effected by outliers.</li>\n",
    "<li>Variance is often depicted by this symbol: $σ2$</li></ul>"
   ]
  },
  {
   "cell_type": "markdown",
   "metadata": {},
   "source": [
    "## $σ2=\\frac{\\sum _{i=1}^{n}(x_{i}-\\bar{x})^2}{n-1}$"
   ]
  },
  {
   "cell_type": "markdown",
   "metadata": {},
   "source": [
    "where:<br>\n",
    "$xi$ is $i^{th}$ data point.<br>\n",
    "$\\bar{x}$=Mean of all datapoints.<br>\n",
    "n= Number of data points."
   ]
  },
  {
   "cell_type": "markdown",
   "metadata": {},
   "source": [
    "![variance](https://user-images.githubusercontent.com/80379608/118645493-a1da1e00-b7fc-11eb-83a9-445eb2672ac0.gif)"
   ]
  },
  {
   "cell_type": "markdown",
   "metadata": {},
   "source": [
    "code examples with libary function"
   ]
  },
  {
   "cell_type": "code",
   "execution_count": 1,
   "metadata": {},
   "outputs": [
    {
     "name": "stdout",
     "output_type": "stream",
     "text": [
      "5000 6000 10000 10000 12500 14000 15000 18000 19000 20000 20000 22000 23400 24000 24000 25000 25000 25000 29000 30000 30500 32000 34000 34000 35000 35000 39000 40000 42000 43000 45000 45000 45000 45000 46000 47000 50000 50500 55000 60000 60000 65000 70000 80000 85000 90000 98000 100000 100000 100000\n",
      "varience: 681100853.0612245\n"
     ]
    }
   ],
   "source": [
    "lst=list(map(int, input().split()))\n",
    "avg = sum(lst) / len(lst)\n",
    "a=len(lst)-1\n",
    "var = sum((x-avg)**2 for x in lst) / a\n",
    "print('varience:',var)"
   ]
  },
  {
   "cell_type": "markdown",
   "metadata": {},
   "source": [
    "code examples with libary function"
   ]
  },
  {
   "cell_type": "code",
   "execution_count": 16,
   "metadata": {},
   "outputs": [
    {
     "name": "stdout",
     "output_type": "stream",
     "text": [
      "varience: 681100853.0612245\n"
     ]
    }
   ],
   "source": [
    "import statistics\n",
    "var=statistics.variance([5000,6000,10000,10000,12500,14000,15000,18000,19000,20000,20000,22000,23400,24000,24000,25000,25000,25000,29000,30000,30500,32000,34000,34000,35000,35000,39000,40000,42000,43000,45000,45000,45000,45000,46000,47000,50000,50500,55000,60000,60000,65000,70000,80000,85000,90000,98000,100000,100000,100000\n",
    "])\n",
    "print('varience:',var)"
   ]
  },
  {
   "cell_type": "markdown",
   "metadata": {},
   "source": [
    "## Standard deviation\n",
    "<ul>\n",
    "<li>The Standard Deviation is a measure of how spread out numbers are from the mean.</li>\n",
    "<li>Standard Deviation is effected by outliers.</li> \n",
    "<li>Its symbol is σ</li></ul>"
   ]
  },
  {
   "cell_type": "markdown",
   "metadata": {},
   "source": [
    "![sd1](https://user-images.githubusercontent.com/80379608/118645438-94249880-b7fc-11eb-972b-b2256cd8d7f4.gif)"
   ]
  },
  {
   "cell_type": "markdown",
   "metadata": {},
   "source": [
    "code examples without libary function"
   ]
  },
  {
   "cell_type": "code",
   "execution_count": 12,
   "metadata": {},
   "outputs": [
    {
     "name": "stdout",
     "output_type": "stream",
     "text": [
      "5000 6000 10000 10000 12500 14000 15000 18000 19000 20000 20000 22000 23400 24000 24000 25000 25000 25000 29000 30000 30500 32000 34000 34000 35000 35000 39000 40000 42000 43000 45000 45000 45000 45000 46000 47000 50000 50500 55000 60000 60000 65000 70000 80000 85000 90000 98000 100000 100000 100000\n",
      "SD: 26097.908978713687\n"
     ]
    }
   ],
   "source": [
    "lst=list(map(int, input().split()))\n",
    "avg = sum(lst) / len(lst)\n",
    "a=len(lst)-1\n",
    "b=(sum((x-avg)**2 for x in lst) / a)\n",
    "std=b**(1/2)\n",
    "print('SD:',std)"
   ]
  },
  {
   "cell_type": "markdown",
   "metadata": {},
   "source": [
    "code examples with libary function"
   ]
  },
  {
   "cell_type": "code",
   "execution_count": 13,
   "metadata": {},
   "outputs": [
    {
     "name": "stdout",
     "output_type": "stream",
     "text": [
      "SD: 26097.908978713687\n"
     ]
    }
   ],
   "source": [
    "import statistics\n",
    "std =statistics.stdev([5000,6000,10000,10000,12500,14000,15000,18000,19000,20000,20000,22000,23400,24000,24000,25000,25000,25000,29000,30000,30500,32000,34000,34000,35000,35000,39000,40000,42000,43000,45000,45000,45000,45000,46000,47000,50000,50500,55000,60000,60000,65000,70000,80000,85000,90000,98000,100000,100000,100000\n",
    "])\n",
    "print('SD:',std)"
   ]
  },
  {
   "cell_type": "markdown",
   "metadata": {},
   "source": [
    "## Correlation"
   ]
  },
  {
   "cell_type": "markdown",
   "metadata": {},
   "source": [
    "If the change in one variable effect the change in other variable then the variables are said to be correlated.\n",
    "\n",
    "Types of correlation\n",
    "\n",
    "1).Positive correlation<br> \n",
    "Two variable's are said to be positively correlated if they tends to change together(increase or decrease)in the same direction.<br> \n",
    "ex:If the number of vehicle on the road are increase then the number of acciedent will also increase  "
   ]
  },
  {
   "cell_type": "markdown",
   "metadata": {},
   "source": [
    "2).Negative correlation<br>\n",
    "Two variable are said to be negatively correlated if they tends to change together (increase or decrease) in the opposite direction.<br>\n",
    "ex:If the medical facilities are increase then the death rate will decreases"
   ]
  },
  {
   "cell_type": "markdown",
   "metadata": {},
   "source": [
    "###  Correlation coefficients are used to measure how strong a relationship is between two variables."
   ]
  },
  {
   "cell_type": "markdown",
   "metadata": {},
   "source": [
    "Types of correlation coefficient"
   ]
  },
  {
   "cell_type": "markdown",
   "metadata": {},
   "source": [
    "1) Pearson’s correlation coefficient<br>\n",
    "The Pearson correlation coefficient is probably the most widely used measure for linear relationships between two normal distributed variables and thus often just called \"correlation coefficient\". Usually, the Pearson coefficient is obtained via a Least-Squares fit and a value of 1 represents a perfect positive relation-ship, -1 a perfect negative relationship, and 0 indicates the absence of a relationship between variables."
   ]
  },
  {
   "cell_type": "markdown",
   "metadata": {},
   "source": [
    "Two letters are used to represent the Pearson correlation: Greek letter rho (ρ) for a population and the letter “r” for a sample."
   ]
  },
  {
   "cell_type": "markdown",
   "metadata": {},
   "source": [
    "## $\\rho = \\frac{\\text{cov}(X,Y)}{\\sigma_x \\sigma_y}$"
   ]
  },
  {
   "cell_type": "markdown",
   "metadata": {},
   "source": [
    "And the estimate"
   ]
  },
  {
   "cell_type": "markdown",
   "metadata": {},
   "source": [
    "## r =$ \\frac{{}\\sum_{i=1}^{n} (x_i - \\overline{x})(y_i - \\overline{y})}\n",
    "{\\sqrt{\\sum_{i=1}^{n} (x_i - \\overline{x})^2(y_i - \\overline{y})^2}}$"
   ]
  },
  {
   "cell_type": "markdown",
   "metadata": {},
   "source": [
    "2). Spearman correlation coefficient"
   ]
  },
  {
   "cell_type": "markdown",
   "metadata": {},
   "source": [
    "Related to the Pearson correlation coefficient, the Spearman correlation coefficient (rho) measures the relationship between two variables. Spearman's rho can be understood as a rank-based version of Pearson's correlation coefficient, which can be used for variables that are not normal-distributed and have a non-linear relationship. Also, its use is not only restricted to continuous data, but can also be used in analyses of ordinal attributes."
   ]
  },
  {
   "cell_type": "markdown",
   "metadata": {},
   "source": [
    "## $\\rho = 1- {\\frac {6 \\sum d_i^2}{n(n^2 - 1)}}$"
   ]
  },
  {
   "cell_type": "markdown",
   "metadata": {},
   "source": [
    "where\n",
    "\n",
    "d = the pairwise distances of the ranks of the variables xi and yi .\n",
    "\n",
    "n = the number of samples.\n",
    "\n"
   ]
  },
  {
   "cell_type": "markdown",
   "metadata": {},
   "source": [
    "![correlation-1-1024x675](https://user-images.githubusercontent.com/80379608/118646223-8a4f6500-b7fd-11eb-8f23-d26ba04515a0.gif)"
   ]
  },
  {
   "cell_type": "markdown",
   "metadata": {},
   "source": [
    "code examples with library"
   ]
  },
  {
   "cell_type": "code",
   "execution_count": 1,
   "metadata": {},
   "outputs": [
    {
     "data": {
      "text/html": [
       "<div>\n",
       "<style scoped>\n",
       "    .dataframe tbody tr th:only-of-type {\n",
       "        vertical-align: middle;\n",
       "    }\n",
       "\n",
       "    .dataframe tbody tr th {\n",
       "        vertical-align: top;\n",
       "    }\n",
       "\n",
       "    .dataframe thead th {\n",
       "        text-align: right;\n",
       "    }\n",
       "</style>\n",
       "<table border=\"1\" class=\"dataframe\">\n",
       "  <thead>\n",
       "    <tr style=\"text-align: right;\">\n",
       "      <th></th>\n",
       "      <th>Mthly_HH_Income</th>\n",
       "      <th>Mthly_HH_Expense</th>\n",
       "      <th>No_of_Fly_Members</th>\n",
       "      <th>Emi_or_Rent_Amt</th>\n",
       "      <th>Annual_HH_Income</th>\n",
       "      <th>No_of_Earning_Members</th>\n",
       "    </tr>\n",
       "  </thead>\n",
       "  <tbody>\n",
       "    <tr>\n",
       "      <th>Mthly_HH_Income</th>\n",
       "      <td>1.000000</td>\n",
       "      <td>0.649215</td>\n",
       "      <td>0.448317</td>\n",
       "      <td>0.036976</td>\n",
       "      <td>0.970315</td>\n",
       "      <td>0.347883</td>\n",
       "    </tr>\n",
       "    <tr>\n",
       "      <th>Mthly_HH_Expense</th>\n",
       "      <td>0.649215</td>\n",
       "      <td>1.000000</td>\n",
       "      <td>0.639702</td>\n",
       "      <td>0.405280</td>\n",
       "      <td>0.591222</td>\n",
       "      <td>0.311915</td>\n",
       "    </tr>\n",
       "    <tr>\n",
       "      <th>No_of_Fly_Members</th>\n",
       "      <td>0.448317</td>\n",
       "      <td>0.639702</td>\n",
       "      <td>1.000000</td>\n",
       "      <td>0.085808</td>\n",
       "      <td>0.430868</td>\n",
       "      <td>0.597482</td>\n",
       "    </tr>\n",
       "    <tr>\n",
       "      <th>Emi_or_Rent_Amt</th>\n",
       "      <td>0.036976</td>\n",
       "      <td>0.405280</td>\n",
       "      <td>0.085808</td>\n",
       "      <td>1.000000</td>\n",
       "      <td>0.002716</td>\n",
       "      <td>-0.097431</td>\n",
       "    </tr>\n",
       "    <tr>\n",
       "      <th>Annual_HH_Income</th>\n",
       "      <td>0.970315</td>\n",
       "      <td>0.591222</td>\n",
       "      <td>0.430868</td>\n",
       "      <td>0.002716</td>\n",
       "      <td>1.000000</td>\n",
       "      <td>0.296679</td>\n",
       "    </tr>\n",
       "    <tr>\n",
       "      <th>No_of_Earning_Members</th>\n",
       "      <td>0.347883</td>\n",
       "      <td>0.311915</td>\n",
       "      <td>0.597482</td>\n",
       "      <td>-0.097431</td>\n",
       "      <td>0.296679</td>\n",
       "      <td>1.000000</td>\n",
       "    </tr>\n",
       "  </tbody>\n",
       "</table>\n",
       "</div>"
      ],
      "text/plain": [
       "                       Mthly_HH_Income  Mthly_HH_Expense  No_of_Fly_Members  \\\n",
       "Mthly_HH_Income               1.000000          0.649215           0.448317   \n",
       "Mthly_HH_Expense              0.649215          1.000000           0.639702   \n",
       "No_of_Fly_Members             0.448317          0.639702           1.000000   \n",
       "Emi_or_Rent_Amt               0.036976          0.405280           0.085808   \n",
       "Annual_HH_Income              0.970315          0.591222           0.430868   \n",
       "No_of_Earning_Members         0.347883          0.311915           0.597482   \n",
       "\n",
       "                       Emi_or_Rent_Amt  Annual_HH_Income  \\\n",
       "Mthly_HH_Income               0.036976          0.970315   \n",
       "Mthly_HH_Expense              0.405280          0.591222   \n",
       "No_of_Fly_Members             0.085808          0.430868   \n",
       "Emi_or_Rent_Amt               1.000000          0.002716   \n",
       "Annual_HH_Income              0.002716          1.000000   \n",
       "No_of_Earning_Members        -0.097431          0.296679   \n",
       "\n",
       "                       No_of_Earning_Members  \n",
       "Mthly_HH_Income                     0.347883  \n",
       "Mthly_HH_Expense                    0.311915  \n",
       "No_of_Fly_Members                   0.597482  \n",
       "Emi_or_Rent_Amt                    -0.097431  \n",
       "Annual_HH_Income                    0.296679  \n",
       "No_of_Earning_Members               1.000000  "
      ]
     },
     "execution_count": 1,
     "metadata": {},
     "output_type": "execute_result"
    }
   ],
   "source": [
    "import pandas as pd\n",
    "df=pd.read_csv('data.csv')\n",
    "df.corr()"
   ]
  },
  {
   "cell_type": "markdown",
   "metadata": {},
   "source": [
    "##  Normal distribution"
   ]
  },
  {
   "cell_type": "markdown",
   "metadata": {},
   "source": [
    "Normal distribution, also known as the Gaussian distribution, is a probability distribution that is symmetric about the mean, showing that data near the mean are more frequent in occurrence than data far from the mean. In graph form, normal distribution will appear as a bell curve."
   ]
  },
  {
   "cell_type": "markdown",
   "metadata": {},
   "source": [
    "<ul>\n",
    "<li>A normal distribution is the proper term for a probability bell curve.</li>\n",
    "<li>In a normal distribution the mean is zero and the standard deviation is 1. It has zero skew and a kurtosis of 3.</li>\n",
    "<li>Normal distributions are symmetrical, but not all symmetrical distributions are normal.</li>\n",
    "<li>In reality, most pricing distributions are not perfectly normal.</li>\n",
    "<li>The Normal Distribution has mean = median = mode</li>\n",
    "<li>50% of values less than the mean and 50% greater than the mean</li></ul>"
   ]
  },
  {
   "cell_type": "markdown",
   "metadata": {},
   "source": [
    "formula for Normal distribution is as follow:"
   ]
  },
  {
   "cell_type": "markdown",
   "metadata": {},
   "source": [
    "## $ f(x)=\\frac1{\\sqrt{2\\pi\\sigma^2}}{exp}^\\frac{x-\\mu}{\\sigma} $"
   ]
  },
  {
   "cell_type": "markdown",
   "metadata": {},
   "source": [
    "where<br>\n",
    "f(x)=probability density function<br>\n",
    "$\\sigma=standard deviation$<br>\n",
    "$\\mu=mean$"
   ]
  },
  {
   "cell_type": "markdown",
   "metadata": {},
   "source": [
    "![normal_distribution_z_scale](https://user-images.githubusercontent.com/80379608/118645331-6ccdcb80-b7fc-11eb-861e-d8104d44d887.gif)"
   ]
  },
  {
   "cell_type": "markdown",
   "metadata": {},
   "source": [
    "# Feature of normal distribution"
   ]
  },
  {
   "cell_type": "markdown",
   "metadata": {},
   "source": [
    "1.The mean, mode and median are all equal.<br>\n",
    "2.The curve is symmetric at the center (i.e. around the mean, μ).<br>\n",
    "3.Exactly half of the values are to the left of center and exactly half the values are to the right.<br>\n",
    "4.The total area under the curve is 1.<br>\n",
    "5.The Standard Normal Model"
   ]
  },
  {
   "cell_type": "markdown",
   "metadata": {},
   "source": [
    "# Positively Skewed & Negatively Skewed Normal Distribution\n"
   ]
  },
  {
   "cell_type": "markdown",
   "metadata": {},
   "source": [
    "<ul><li>A <b>left-skewed distribution</b> has a long left tail. Left-skewed distributions are also called negatively-skewed distributions. That’s because there is a long tail in the negative direction on the number line. The mean is also to the left of the peak</li></ul>\n",
    "<ul><li>A <b>right-skewed distribution </b>has a long right tail. Right-skewed distributions are also called positive-skew distributions. That’s because there is a long tail in the positive direction on the number line. The mean is also to the right of the peak</li></ul>"
   ]
  },
  {
   "cell_type": "markdown",
   "metadata": {},
   "source": [
    "## Effect on Mean, Median and Mode due to Skewness"
   ]
  },
  {
   "cell_type": "markdown",
   "metadata": {},
   "source": [
    "<ul><li>\n",
    "If the distribution of data is skewed to the left, the mean is less than the median, which is often less than the mode.</li>\n",
    "<li>which means data is <b>left skewed or negative skewness</b></li><br>\n",
    "<li>If the distribution of data is skewed to the right, the mode is often less than the median, which is less than the mean.</li>\n",
    "<li>which means data is <b>right skewed or positive skewness<b></li>\n",
    "</ul>"
   ]
  },
  {
   "cell_type": "markdown",
   "metadata": {},
   "source": [
    "![pearson-mode-skewness](https://user-images.githubusercontent.com/80379608/118645395-866f1300-b7fc-11eb-8aee-89a55709270a.gif)"
   ]
  },
  {
   "cell_type": "markdown",
   "metadata": {},
   "source": [
    "## Explain QQ Plot and show the implementation of the same."
   ]
  },
  {
   "cell_type": "markdown",
   "metadata": {},
   "source": [
    "Q Q Plots (Quantile-Quantile plots) are plots of two quantiles against each other. A quantile is a fraction where certain values fall below that quantile. For example, the median is a quantile where 50% of the data fall below that point and 50% lie above it. The purpose of Q Q plots is to find out if two sets of data come from the same distribution. A 45 degree angle is plotted on the Q Q plot; if the two data sets come from a common distribution, the points will fall on that reference line."
   ]
  },
  {
   "cell_type": "code",
   "execution_count": 1,
   "metadata": {},
   "outputs": [
    {
     "data": {
      "image/png": "[encoded data removed]",
      "text/plain": [
       "<Figure size 432x288 with 1 Axes>"
      ]
     },
     "metadata": {
      "needs_background": "light"
     },
     "output_type": "display_data"
    }
   ],
   "source": [
    "import scipy.stats as stats\n",
    "import numpy as np\n",
    "import matplotlib.pyplot as plt\n",
    "%matplotlib inline\n",
    "  \n",
    "n = 2000\n",
    "observation = np.random.binomial(n, 0.53, size=1000)/n\n",
    "  \n",
    "z = (observation-np.mean(observation))/np.std(observation)\n",
    "  \n",
    "stats.probplot(z, dist=\"norm\", plot=plt)\n",
    "plt.title(\"Normal Q-Q plot\")\n",
    "plt.show()"
   ]
  },
  {
   "cell_type": "markdown",
   "metadata": {},
   "source": [
    "## Explain Box Cox and show the implementation of the same"
   ]
  },
  {
   "cell_type": "markdown",
   "metadata": {},
   "source": [
    "A Box Cox transformation is a transformation of a non-normal dependent variables into a normal shape. Normality is an important assumption for many statistical techniques; if your data isn’t normal, applying a Box-Cox means that you are able to run a broader number of tests."
   ]
  },
  {
   "cell_type": "code",
   "execution_count": 11,
   "metadata": {},
   "outputs": [
    {
     "name": "stdout",
     "output_type": "stream",
     "text": [
      "Lambda value used for Transformation: 0.2612407717320849\n"
     ]
    },
    {
     "data": {
      "image/png": "[encoded data removed]",
      "text/plain": [
       "<Figure size 720x360 with 2 Axes>"
      ]
     },
     "metadata": {
      "needs_background": "light"
     },
     "output_type": "display_data"
    }
   ],
   "source": [
    "import numpy as np\n",
    "from scipy import stats\n",
    "import seaborn as sns\n",
    "import matplotlib.pyplot as plt\n",
    "original_data = np.random.exponential(size = 1000)\n",
    "fitted_data, fitted_lambda = stats.boxcox(original_data)\n",
    "fig, ax = plt.subplots(1, 2)\n",
    "sns.distplot(original_data, hist = False, kde = True,\n",
    "            kde_kws = {'shade': True, 'linewidth': 2}, \n",
    "            label = \"Non-Normal\", color =\"green\", ax = ax[0])\n",
    "sns.distplot(fitted_data, hist = False, kde = True,\n",
    "            kde_kws = {'shade': True, 'linewidth': 2}, \n",
    "            label = \"Normal\", color =\"green\", ax = ax[1])\n",
    "plt.legend(loc = \"upper right\")\n",
    "fig.set_figheight(5)\n",
    "fig.set_figwidth(10)\n",
    "  \n",
    "print(f\"Lambda value used for Transformation: {fitted_lambda}\")"
   ]
  },
  {
   "cell_type": "code",
   "execution_count": null,
   "metadata": {},
   "outputs": [],
   "source": []
  }
 ],
 "metadata": {
  "kernelspec": {
   "display_name": "Python 3",
   "language": "python",
   "name": "python3"
  },
  "language_info": {
   "codemirror_mode": {
    "name": "ipython",
    "version": 3
   },
   "file_extension": ".py",
   "mimetype": "text/x-python",
   "name": "python",
   "nbconvert_exporter": "python",
   "pygments_lexer": "ipython3",
   "version": "3.8.3"
  }
 },
 "nbformat": 4,
 "nbformat_minor": 4
}
