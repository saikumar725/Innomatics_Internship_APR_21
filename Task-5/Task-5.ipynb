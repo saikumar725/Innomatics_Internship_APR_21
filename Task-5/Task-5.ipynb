{
 "cells": [
  {
   "cell_type": "code",
   "execution_count": 2,
   "metadata": {},
   "outputs": [
    {
     "name": "stdout",
     "output_type": "stream",
     "text": [
      "3\n",
      "2.00114\n",
      "True\n",
      "1235\n",
      "False\n",
      "3.221\n",
      "True\n"
     ]
    }
   ],
   "source": [
    "#1.Detect Floating Point Number\n",
    "\n",
    "import re\n",
    "n=int(input())\n",
    "pattern =r'^[+-]?[0-9]*\\.[0-9]+$'\n",
    "for i in range(n):\n",
    "    s=input()\n",
    "    print(bool(re.match(pattern,s)))\n"
   ]
  },
  {
   "cell_type": "code",
   "execution_count": 5,
   "metadata": {},
   "outputs": [
    {
     "name": "stdout",
     "output_type": "stream",
     "text": [
      "saikumar,sadhula\n",
      "saikumar\n",
      "sadhula\n"
     ]
    }
   ],
   "source": [
    "#2.Re.split()\n",
    "\n",
    "regex_pattern = r\"[,.]\"\n",
    "\n",
    "import re\n",
    "print(\"\\n\".join(re.split(regex_pattern, input())))"
   ]
  },
  {
   "cell_type": "code",
   "execution_count": 7,
   "metadata": {},
   "outputs": [
    {
     "name": "stdout",
     "output_type": "stream",
     "text": [
      "dfsfgrfgjukhjkm\n",
      "-1\n"
     ]
    }
   ],
   "source": [
    "#3.Group(), Groups() & Groupdict()\n",
    "\n",
    "import re\n",
    "s=input()\n",
    "pattern=r'(?!_)(\\d|\\w)\\1'\n",
    "i=re.search(pattern, s)\n",
    "if i:\n",
    "    print(i.groups()[0])\n",
    "else:\n",
    "    print(-1)"
   ]
  },
  {
   "cell_type": "code",
   "execution_count": 12,
   "metadata": {},
   "outputs": [
    {
     "name": "stdout",
     "output_type": "stream",
     "text": [
      "rabcdeefgyYhFjkIoomnpOeorteeeeet\n",
      "ee\n",
      "Ioo\n",
      "Oeo\n",
      "eeeee\n"
     ]
    }
   ],
   "source": [
    "#4.Re.findall() & Re.finditer()\n",
    "\n",
    "\n",
    "import re\n",
    "s=input()\n",
    "v=\"aeiou\"\n",
    "c=\"qwrtypsdfghjklzxcvbnm\"\n",
    "l=re.findall(r\"(?<=[%s])([%s]{2,})[%s]\" % (c,v,c),s, flags=re.IGNORECASE)\n",
    "\n",
    "if not l:\n",
    "    print(-1)\n",
    "else:\n",
    "    for i in l:\n",
    "        print(i)"
   ]
  },
  {
   "cell_type": "code",
   "execution_count": 14,
   "metadata": {},
   "outputs": [
    {
     "name": "stdout",
     "output_type": "stream",
     "text": [
      "aaadaa\n",
      "aa\n",
      "(0, 1)\n",
      "(1, 2)\n",
      "(4, 5)\n"
     ]
    }
   ],
   "source": [
    "#5.Re.start() & Re.end()\n",
    "\n",
    "import re\n",
    "s=input()\n",
    "k=input()\n",
    "pattern=re.compile(k)\n",
    "m=pattern.search(s)\n",
    "if not m:\n",
    "    print(\"(-1, -1)\")\n",
    "else:\n",
    "    while m:\n",
    "        print(\"({0}, {1})\".format(m.start(), m.end()-1))\n",
    "        m=pattern.search(s,m.start()+1)\n",
    "    "
   ]
  },
  {
   "cell_type": "code",
   "execution_count": 4,
   "metadata": {},
   "outputs": [
    {
     "name": "stdout",
     "output_type": "stream",
     "text": [
      "2\n",
      "if a + b > 0 && a - b < 0:\n",
      "if a + b > 0 and a - b < 0:\n",
      "elif a*b > 10 || a/b < 1:\n",
      "elif a*b > 10 or a/b < 1:\n"
     ]
    }
   ],
   "source": [
    "#6.Regex Substitution\n",
    "\n",
    "import re\n",
    "\n",
    "pattern = r\"(?<= )(&&|\\|\\|)(?= )\"\n",
    "replace=lambda x: \"and\" if x.group() == \"&&\" else \"or\"\n",
    "\n",
    "for i in range(int(input())):\n",
    "    s=input()\n",
    "    print(re.sub(pattern, replace, s))"
   ]
  },
  {
   "cell_type": "code",
   "execution_count": 5,
   "metadata": {},
   "outputs": [
    {
     "name": "stdout",
     "output_type": "stream",
     "text": [
      "CDXXI\n",
      "True\n"
     ]
    }
   ],
   "source": [
    "#7.Validating Roman Numerals\n",
    "regex_pattern = r\"^M{0,3}(CM|CD|D?C{0,3})(XC|XL|L?X{0,3})(IX|IV|V?I{0,3})$\"\t# Do not delete 'r'.\n",
    "\n",
    "import re\n",
    "print(str(bool(re.match(regex_pattern, input()))))"
   ]
  },
  {
   "cell_type": "code",
   "execution_count": 2,
   "metadata": {},
   "outputs": [
    {
     "name": "stdout",
     "output_type": "stream",
     "text": [
      "2\n",
      "9987654321\n",
      "YES\n",
      "5265847\n",
      "NO\n"
     ]
    }
   ],
   "source": [
    "#8.Validating phone numbers\n",
    "import re\n",
    "def validate_number(n):\n",
    "    pattern=r\"[789]\\d{9}$\"\n",
    "    if re.match(pattern,n):\n",
    "        return \"YES\"\n",
    "    else:\n",
    "        return \"NO\"\n",
    "    \n",
    "a=int(input())\n",
    "for i in range(a):\n",
    "    print(validate_number(input()))"
   ]
  },
  {
   "cell_type": "code",
   "execution_count": 6,
   "metadata": {},
   "outputs": [
    {
     "name": "stdout",
     "output_type": "stream",
     "text": [
      "2\n",
      "DEXTER <dexter@hotmail.com>\n",
      "DEXTER <dexter@hotmail.com>\n",
      "VIRUS <virus!@variable.:p>\n"
     ]
    }
   ],
   "source": [
    "#9.Validating and Parsing Email Addresses\n",
    "import re\n",
    "n=int(input())\n",
    "for i in range(n):\n",
    "    line=input()\n",
    "    name,email=line.split(\" \")\n",
    "    pattern =\"<[a-z][a-zA-z0-9\\-\\.\\_]+@[a-zA-Z]+\\.[a-zA-Z]{1,3}>\"\n",
    "    if bool(re.match(pattern,email)):\n",
    "        print(name,email)"
   ]
  },
  {
   "cell_type": "code",
   "execution_count": 1,
   "metadata": {},
   "outputs": [
    {
     "name": "stdout",
     "output_type": "stream",
     "text": [
      "5\n",
      "{\n",
      " color: #FfFdF8; background-color:#aef;\n",
      "#FfFdF8\n",
      "#aef\n",
      "font-size: 123px;\n",
      "background: -webkit-linear-gradient(top, #f9f9f9, #fff);\n",
      "#f9f9f9\n",
      "#fff\n",
      "}\n"
     ]
    }
   ],
   "source": [
    "#10.Hex Color Code\n",
    "import re\n",
    "css=False\n",
    "\n",
    "n=int(input())\n",
    "for i in range(n):\n",
    "    line=input()\n",
    "    if '{' in line:\n",
    "        css=True\n",
    "    elif '}' in line:\n",
    "        s=False\n",
    "    elif css:\n",
    "        for color in re.findall('#[0-9a-fA-F]{3,6}',line):\n",
    "            print(color)"
   ]
  },
  {
   "cell_type": "code",
   "execution_count": 6,
   "metadata": {},
   "outputs": [
    {
     "name": "stdout",
     "output_type": "stream",
     "text": [
      "2\n",
      "<html><head><title>HTML Parser - I</title></head>\n",
      "Start : html\n",
      "Start : head\n",
      "Start : title\n",
      "End   : title\n",
      "End   : head\n",
      "<body data-modal-target class='1'><h1>HackerRank</h1><br /></body></html>\n",
      "Start : body\n",
      "-> data-modal-target > None\n",
      "-> class > 1\n",
      "Start : h1\n",
      "End   : h1\n",
      "Empty : br\n",
      "End   : body\n",
      "End   : html\n"
     ]
    }
   ],
   "source": [
    "#11.HTML Parser - Part 1\n",
    "\n",
    "from html.parser import HTMLParser\n",
    "\n",
    "class MyHTMLParser(HTMLParser):\n",
    "    def handle_starttag(self, tag, attrs):\n",
    "        print(\"Start :\", tag)\n",
    "        self.print_attrs(attrs)\n",
    "    def handle_endtag(self, tag):\n",
    "        print (\"End   :\", tag)\n",
    "    def handle_startendtag(self, tag, attrs):\n",
    "        print (\"Empty :\", tag)\n",
    "        self.print_attrs(attrs)\n",
    "\n",
    "\n",
    "    def print_attrs(self,attrs):\n",
    "        for i in attrs:\n",
    "            print(\"-> {:} > {:}\".format(i[0],i[1]))\n",
    "\n",
    "parser=MyHTMLParser()\n",
    "for j in range(int(input())):\n",
    "    parser.feed(input())\n",
    "            "
   ]
  },
  {
   "cell_type": "code",
   "execution_count": 7,
   "metadata": {},
   "outputs": [
    {
     "name": "stdout",
     "output_type": "stream",
     "text": [
      "4\n",
      "<!--[if IE 9]>IE9-specific content\n",
      "<![endif]-->\n",
      "<div> Welcome to HackerRank</div>\n",
      "<!--[if IE 9]>IE9-specific content<![endif]-->\n",
      ">>> Multi-line comment\n",
      "[if IE 9]>IE9-specific content\n",
      "<![endif]\n",
      ">>> Single-line Comment\n",
      "[if IE 9]>IE9-specific content<![endif]\n"
     ]
    }
   ],
   "source": [
    "#12.HTML Parser - Part 2\n",
    "\n",
    "from html.parser import HTMLParser\n",
    "\n",
    "class MyHTMLParser(HTMLParser):\n",
    "    def handle_comment(self, data):\n",
    "        if data != '\\n':\n",
    "            if '\\n' not in data:\n",
    "                print(\">>> Single-line Comment\")\n",
    "                print(data)\n",
    "            else:\n",
    "                print(\">>> Multi-line comment\")\n",
    "                print(data)\n",
    "    \n",
    "        def handle_data(self, data):\n",
    "            if data != '\\n':\n",
    "                print(\">>> Data\")\n",
    "                print(data)\n",
    "  \n",
    "  \n",
    "  \n",
    "  \n",
    "html = \"\"       \n",
    "for i in range(int(input())):\n",
    "    html += input().rstrip()\n",
    "    html += '\\n'\n",
    "    \n",
    "parser = MyHTMLParser()\n",
    "parser.feed(html)\n",
    "parser.close()\n"
   ]
  },
  {
   "cell_type": "code",
   "execution_count": 1,
   "metadata": {},
   "outputs": [
    {
     "name": "stdout",
     "output_type": "stream",
     "text": [
      "3\n",
      "<object type=\"application/x-flash\"\n",
      "<param name=\"quality\" value=\"high\"/>\n",
      "data=\"your-file.swf\"\n",
      "object\n",
      "-> type > application/x-flash\n",
      "-> <param > None\n",
      "-> name > quality\n",
      "-> value > high\n"
     ]
    }
   ],
   "source": [
    "#13.Detect HTML Tags, Attributes and Attribute Valuesse\n",
    "\n",
    "from html.parser import HTMLParser\n",
    "\n",
    "class  MyHTMLParser(HTMLParser):\n",
    "    def handle_starttag(self, tag, attrs):\n",
    "        print(tag)\n",
    "        for at in attrs:\n",
    "            print(\"-> {} > {}\".format(at[0],at[1]))\n",
    "    def handle_startendtag(self,tag,attrs):\n",
    "        print(tag)\n",
    "        for at in attrs:\n",
    "            print(\"-> {} > {}\".format(at[0],at[1]))\n",
    "            \n",
    "            \n",
    "html=\"\"\n",
    "for i in range(int(input())):\n",
    "    html += input().rstrip()\n",
    "    html +='\\n'\n",
    "    \n",
    "parser =MyHTMLParser()\n",
    "parser.feed(html)\n",
    "parser.close()"
   ]
  },
  {
   "cell_type": "code",
   "execution_count": 2,
   "metadata": {},
   "outputs": [
    {
     "name": "stdout",
     "output_type": "stream",
     "text": [
      "2\n",
      "B1CD102354 \n",
      "Invalid\n",
      " B1CDEF2354\n",
      "Valid\n"
     ]
    }
   ],
   "source": [
    "#14.Validating UID\n",
    "\n",
    "import re\n",
    "for i in range(int(input())):\n",
    "    N=input().strip()\n",
    "    if N.isalnum() and len(N) ==10:\n",
    "        if bool(re.search(r'(.*[A-Z]){2,}',N)) and bool(re.search(r'(.*[0-9]){3,}',N)):\n",
    "            if re.search(r'.*(.).*\\1+.*',N):\n",
    "                print('Invalid')\n",
    "            else:\n",
    "                print('Valid')\n",
    "        else:\n",
    "            print('Invalid')\n",
    "    else:\n",
    "        print('Invalid')\n"
   ]
  },
  {
   "cell_type": "code",
   "execution_count": 3,
   "metadata": {},
   "outputs": [
    {
     "name": "stdout",
     "output_type": "stream",
     "text": [
      "3\n",
      "61234-567-8912-3456\n",
      "Invalid\n",
      "5123 - 3567 - 8912 - 3456\n",
      "Invalid\n",
      "4123456789123456\n",
      "Valid\n"
     ]
    }
   ],
   "source": [
    "#15.Validating Credit Card Numbers\n",
    "\n",
    "def checkValidity(number):\n",
    "    temp=number.split(\"-\")\n",
    "    pstr=\"\".join(temp)\n",
    "    if number[0] in \"456\":\n",
    "        if len(number) == 16 or len(number) ==19:\n",
    "            chkstr = \"1234567890-\"\n",
    "            for x in number:\n",
    "                if x not in  chkstr:\n",
    "                    return False\n",
    "            if len(number)==19:\n",
    "                chkstr=\"1234567890\"\n",
    "                for x in temp:\n",
    "                    if len(x)!=4:\n",
    "                        return False\n",
    "            for x in range(len(pstr)-4):\n",
    "                if pstr[x:x+4]==pstr[x]*4:\n",
    "                    return False\n",
    "            return True\n",
    "        return False\n",
    "n=int(input())\n",
    "for x in range(n):\n",
    "    if(checkValidity(input())):\n",
    "        print(\"Valid\")\n",
    "    else:\n",
    "        print(\"Invalid\")"
   ]
  },
  {
   "cell_type": "code",
   "execution_count": 4,
   "metadata": {},
   "outputs": [
    {
     "name": "stdout",
     "output_type": "stream",
     "text": [
      "110000\n",
      "False\n"
     ]
    }
   ],
   "source": [
    "#16.Validating Postal Codes\n",
    "regex_integer_in_range = r\"^[1-9]\\d{5}$\"\n",
    "regex_alternating_repetitive_digit_pair = r\"(?=(\\d)\\d\\1)\"\n",
    "\n",
    "\n",
    "import re\n",
    "P = input()\n",
    "\n",
    "print (bool(re.match(regex_integer_in_range, P)) \n",
    "and len(re.findall(regex_alternating_repetitive_digit_pair, P)) < 2)"
   ]
  },
  {
   "cell_type": "code",
   "execution_count": 18,
   "metadata": {},
   "outputs": [
    {
     "name": "stdout",
     "output_type": "stream",
     "text": [
      "2 3\n",
      "mti\n",
      "arx\n",
      "matrix\n"
     ]
    }
   ],
   "source": [
    "#17.Matrix Script\n",
    "import re\n",
    "(n,m) = map(int,input().strip().split())\n",
    "matrix = []\n",
    "\n",
    "for _ in range(n):\n",
    "    matrix_item = input()\n",
    "    matrix.append(matrix_item)\n",
    "\n",
    "string=\"\"\n",
    "for y in range(m):\n",
    "    for x in range(n):\n",
    "        string+=matrix[x][y]\n",
    "pattern=re.compile(r'(\\w)(\\W+)(\\w)')\n",
    "subs=pattern.sub(r\"\\1 \\3\",string) \n",
    "print(subs)"
   ]
  },
  {
   "cell_type": "code",
   "execution_count": null,
   "metadata": {},
   "outputs": [],
   "source": []
  }
 ],
 "metadata": {
  "kernelspec": {
   "display_name": "Python 3",
   "language": "python",
   "name": "python3"
  },
  "language_info": {
   "codemirror_mode": {
    "name": "ipython",
    "version": 3
   },
   "file_extension": ".py",
   "mimetype": "text/x-python",
   "name": "python",
   "nbconvert_exporter": "python",
   "pygments_lexer": "ipython3",
   "version": "3.8.3"
  }
 },
 "nbformat": 4,
 "nbformat_minor": 4
}
